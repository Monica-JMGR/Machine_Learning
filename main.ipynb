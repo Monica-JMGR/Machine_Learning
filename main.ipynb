{
 "cells": [
  {
   "cell_type": "markdown",
   "metadata": {},
   "source": [
    "# Precios de venta en coches de segunda mano"
   ]
  },
  {
   "cell_type": "markdown",
   "metadata": {},
   "source": [
    "## Analisis Exploratorio de Datos"
   ]
  },
  {
   "cell_type": "code",
   "execution_count": 1,
   "metadata": {},
   "outputs": [],
   "source": [
    "# Importamos las librerias necesarias\n",
    "\n",
    "import pandas as pd\n",
    "import numpy as np\n",
    "import matplotlib.pyplot as plt\n",
    "import seaborn as sns\n",
    "from scipy import stats\n",
    "import phik"
   ]
  },
  {
   "cell_type": "markdown",
   "metadata": {},
   "source": [
    "##### Carga de datos\n",
    "\n",
    "Nuestro archivo procede de la web Datamarket.es y contiene **anuncios de venta de coches de segunda mano en las principales plataformas.**\n",
    "\n",
    "Es una web en la que existen muchos datasets de diferentes tipologías  y, además, tienes la posibilidad de descargar Datasets de prueba sin coste alguno.\n",
    "\n"
   ]
  },
  {
   "cell_type": "code",
   "execution_count": 2,
   "metadata": {},
   "outputs": [
    {
     "data": {
      "text/html": [
       "<div>\n",
       "<style scoped>\n",
       "    .dataframe tbody tr th:only-of-type {\n",
       "        vertical-align: middle;\n",
       "    }\n",
       "\n",
       "    .dataframe tbody tr th {\n",
       "        vertical-align: top;\n",
       "    }\n",
       "\n",
       "    .dataframe thead th {\n",
       "        text-align: right;\n",
       "    }\n",
       "</style>\n",
       "<table border=\"1\" class=\"dataframe\">\n",
       "  <thead>\n",
       "    <tr style=\"text-align: right;\">\n",
       "      <th></th>\n",
       "      <th>url</th>\n",
       "      <th>company</th>\n",
       "      <th>make</th>\n",
       "      <th>model</th>\n",
       "      <th>version</th>\n",
       "      <th>price</th>\n",
       "      <th>price_financed</th>\n",
       "      <th>fuel</th>\n",
       "      <th>year</th>\n",
       "      <th>kms</th>\n",
       "      <th>...</th>\n",
       "      <th>doors</th>\n",
       "      <th>shift</th>\n",
       "      <th>color</th>\n",
       "      <th>photos</th>\n",
       "      <th>is_professional</th>\n",
       "      <th>dealer</th>\n",
       "      <th>province</th>\n",
       "      <th>country</th>\n",
       "      <th>publish_date</th>\n",
       "      <th>insert_date</th>\n",
       "    </tr>\n",
       "  </thead>\n",
       "  <tbody>\n",
       "    <tr>\n",
       "      <th>0</th>\n",
       "      <td>e158ae0ca53119ca199c28c36b5c2fcd</td>\n",
       "      <td>9881bcdd5a0ad4733037b3fb25e69c3a</td>\n",
       "      <td>SEAT</td>\n",
       "      <td>Toledo</td>\n",
       "      <td>SEAT Toledo  4p.</td>\n",
       "      <td>950</td>\n",
       "      <td>NaN</td>\n",
       "      <td>Diésel</td>\n",
       "      <td>2000.0</td>\n",
       "      <td>227000</td>\n",
       "      <td>...</td>\n",
       "      <td>4</td>\n",
       "      <td>Manual</td>\n",
       "      <td>Verde</td>\n",
       "      <td>5</td>\n",
       "      <td>False</td>\n",
       "      <td>0f4bb8455d27349b8273109b66a847f3</td>\n",
       "      <td>Navarra</td>\n",
       "      <td>Spain</td>\n",
       "      <td>2020-12-18 10:47:13</td>\n",
       "      <td>2021-01-15 00:00:00</td>\n",
       "    </tr>\n",
       "    <tr>\n",
       "      <th>1</th>\n",
       "      <td>ff267ebb7e700246f47f84f3db660b4b</td>\n",
       "      <td>9881bcdd5a0ad4733037b3fb25e69c3a</td>\n",
       "      <td>CITROEN</td>\n",
       "      <td>C1</td>\n",
       "      <td>CITROEN C1 PureTech 60KW 82CV Feel 5p.</td>\n",
       "      <td>6200</td>\n",
       "      <td>NaN</td>\n",
       "      <td>Gasolina</td>\n",
       "      <td>2017.0</td>\n",
       "      <td>50071</td>\n",
       "      <td>...</td>\n",
       "      <td>5</td>\n",
       "      <td>Manual</td>\n",
       "      <td>Blanco</td>\n",
       "      <td>6</td>\n",
       "      <td>True</td>\n",
       "      <td>Autos Raymara</td>\n",
       "      <td>Tenerife</td>\n",
       "      <td>Spain</td>\n",
       "      <td>2021-01-02 11:25:40</td>\n",
       "      <td>2021-01-15 00:00:00</td>\n",
       "    </tr>\n",
       "    <tr>\n",
       "      <th>2</th>\n",
       "      <td>de4b02db28ea7786c622b969be10c7c7</td>\n",
       "      <td>9881bcdd5a0ad4733037b3fb25e69c3a</td>\n",
       "      <td>FORD</td>\n",
       "      <td>Transit Connect</td>\n",
       "      <td>FORD Transit Connect Van 1.5 TDCi 100cv Ambien...</td>\n",
       "      <td>7851</td>\n",
       "      <td>7024.0</td>\n",
       "      <td>Diésel</td>\n",
       "      <td>2016.0</td>\n",
       "      <td>103000</td>\n",
       "      <td>...</td>\n",
       "      <td>4</td>\n",
       "      <td>Manual</td>\n",
       "      <td>Blanco</td>\n",
       "      <td>10</td>\n",
       "      <td>True</td>\n",
       "      <td>Auto 96</td>\n",
       "      <td>Barcelona</td>\n",
       "      <td>Spain</td>\n",
       "      <td>2020-12-16 10:51:45</td>\n",
       "      <td>2021-01-15 00:00:00</td>\n",
       "    </tr>\n",
       "    <tr>\n",
       "      <th>3</th>\n",
       "      <td>0449972a4d07594acf92e9a7dd28b39c</td>\n",
       "      <td>9881bcdd5a0ad4733037b3fb25e69c3a</td>\n",
       "      <td>VOLKSWAGEN</td>\n",
       "      <td>Caravelle</td>\n",
       "      <td>VOLKSWAGEN Caravelle Largo 2.0 TDI 140 Comfort...</td>\n",
       "      <td>19426</td>\n",
       "      <td>NaN</td>\n",
       "      <td>Diésel</td>\n",
       "      <td>2014.0</td>\n",
       "      <td>120000</td>\n",
       "      <td>...</td>\n",
       "      <td>4</td>\n",
       "      <td>Manual</td>\n",
       "      <td>Blanco</td>\n",
       "      <td>9</td>\n",
       "      <td>True</td>\n",
       "      <td>Inniauto</td>\n",
       "      <td>Navarra</td>\n",
       "      <td>Spain</td>\n",
       "      <td>2020-11-25 11:09:14</td>\n",
       "      <td>2021-01-15 00:00:00</td>\n",
       "    </tr>\n",
       "    <tr>\n",
       "      <th>4</th>\n",
       "      <td>12c4fa49bd4fdf23f19ecf396d3f02ef</td>\n",
       "      <td>9881bcdd5a0ad4733037b3fb25e69c3a</td>\n",
       "      <td>FORD</td>\n",
       "      <td>Transit</td>\n",
       "      <td>FORD Transit 350 96kW L4 Ambiente Propulsion T...</td>\n",
       "      <td>22850</td>\n",
       "      <td>22800.0</td>\n",
       "      <td>Diésel</td>\n",
       "      <td>2017.0</td>\n",
       "      <td>107000</td>\n",
       "      <td>...</td>\n",
       "      <td>2</td>\n",
       "      <td>Manual</td>\n",
       "      <td>Blanco</td>\n",
       "      <td>4</td>\n",
       "      <td>True</td>\n",
       "      <td>Autofleet España,s.l</td>\n",
       "      <td>Sevilla</td>\n",
       "      <td>Spain</td>\n",
       "      <td>2021-01-12 20:00:34</td>\n",
       "      <td>2021-01-15 00:00:00</td>\n",
       "    </tr>\n",
       "  </tbody>\n",
       "</table>\n",
       "<p>5 rows × 21 columns</p>\n",
       "</div>"
      ],
      "text/plain": [
       "                                url                           company  \\\n",
       "0  e158ae0ca53119ca199c28c36b5c2fcd  9881bcdd5a0ad4733037b3fb25e69c3a   \n",
       "1  ff267ebb7e700246f47f84f3db660b4b  9881bcdd5a0ad4733037b3fb25e69c3a   \n",
       "2  de4b02db28ea7786c622b969be10c7c7  9881bcdd5a0ad4733037b3fb25e69c3a   \n",
       "3  0449972a4d07594acf92e9a7dd28b39c  9881bcdd5a0ad4733037b3fb25e69c3a   \n",
       "4  12c4fa49bd4fdf23f19ecf396d3f02ef  9881bcdd5a0ad4733037b3fb25e69c3a   \n",
       "\n",
       "         make            model  \\\n",
       "0        SEAT           Toledo   \n",
       "1     CITROEN               C1   \n",
       "2        FORD  Transit Connect   \n",
       "3  VOLKSWAGEN        Caravelle   \n",
       "4        FORD          Transit   \n",
       "\n",
       "                                             version  price  price_financed  \\\n",
       "0                                   SEAT Toledo  4p.    950             NaN   \n",
       "1             CITROEN C1 PureTech 60KW 82CV Feel 5p.   6200             NaN   \n",
       "2  FORD Transit Connect Van 1.5 TDCi 100cv Ambien...   7851          7024.0   \n",
       "3  VOLKSWAGEN Caravelle Largo 2.0 TDI 140 Comfort...  19426             NaN   \n",
       "4  FORD Transit 350 96kW L4 Ambiente Propulsion T...  22850         22800.0   \n",
       "\n",
       "       fuel    year     kms  ...  doors   shift   color photos  \\\n",
       "0    Diésel  2000.0  227000  ...      4  Manual   Verde      5   \n",
       "1  Gasolina  2017.0   50071  ...      5  Manual  Blanco      6   \n",
       "2    Diésel  2016.0  103000  ...      4  Manual  Blanco     10   \n",
       "3    Diésel  2014.0  120000  ...      4  Manual  Blanco      9   \n",
       "4    Diésel  2017.0  107000  ...      2  Manual  Blanco      4   \n",
       "\n",
       "   is_professional                            dealer   province country  \\\n",
       "0            False  0f4bb8455d27349b8273109b66a847f3    Navarra   Spain   \n",
       "1             True                     Autos Raymara   Tenerife   Spain   \n",
       "2             True                           Auto 96  Barcelona   Spain   \n",
       "3             True                          Inniauto    Navarra   Spain   \n",
       "4             True              Autofleet España,s.l    Sevilla   Spain   \n",
       "\n",
       "          publish_date          insert_date  \n",
       "0  2020-12-18 10:47:13  2021-01-15 00:00:00  \n",
       "1  2021-01-02 11:25:40  2021-01-15 00:00:00  \n",
       "2  2020-12-16 10:51:45  2021-01-15 00:00:00  \n",
       "3  2020-11-25 11:09:14  2021-01-15 00:00:00  \n",
       "4  2021-01-12 20:00:34  2021-01-15 00:00:00  \n",
       "\n",
       "[5 rows x 21 columns]"
      ]
     },
     "execution_count": 2,
     "metadata": {},
     "output_type": "execute_result"
    }
   ],
   "source": [
    "'''Cargamos el Dataset (csv) en un DataFrame y mostramos las cinco primeras filas'''\n",
    "\n",
    "anuncios = pd.read_csv('data/coches-de-segunda-mano-sample.csv')\n",
    "anuncios.head()"
   ]
  },
  {
   "cell_type": "markdown",
   "metadata": {},
   "source": [
    "##### Estadísticos"
   ]
  },
  {
   "cell_type": "code",
   "execution_count": 3,
   "metadata": {},
   "outputs": [
    {
     "data": {
      "text/html": [
       "<div>\n",
       "<style scoped>\n",
       "    .dataframe tbody tr th:only-of-type {\n",
       "        vertical-align: middle;\n",
       "    }\n",
       "\n",
       "    .dataframe tbody tr th {\n",
       "        vertical-align: top;\n",
       "    }\n",
       "\n",
       "    .dataframe thead th {\n",
       "        text-align: right;\n",
       "    }\n",
       "</style>\n",
       "<table border=\"1\" class=\"dataframe\">\n",
       "  <thead>\n",
       "    <tr style=\"text-align: right;\">\n",
       "      <th></th>\n",
       "      <th>price</th>\n",
       "      <th>price_financed</th>\n",
       "      <th>year</th>\n",
       "      <th>kms</th>\n",
       "      <th>power</th>\n",
       "      <th>doors</th>\n",
       "      <th>photos</th>\n",
       "    </tr>\n",
       "  </thead>\n",
       "  <tbody>\n",
       "    <tr>\n",
       "      <th>count</th>\n",
       "      <td>50000.000000</td>\n",
       "      <td>23563.000000</td>\n",
       "      <td>49998.000000</td>\n",
       "      <td>5.000000e+04</td>\n",
       "      <td>41472.000000</td>\n",
       "      <td>50000.000000</td>\n",
       "      <td>50000.000000</td>\n",
       "    </tr>\n",
       "    <tr>\n",
       "      <th>mean</th>\n",
       "      <td>15166.270260</td>\n",
       "      <td>18480.029283</td>\n",
       "      <td>2012.311032</td>\n",
       "      <td>1.163591e+05</td>\n",
       "      <td>146.396388</td>\n",
       "      <td>4.505380</td>\n",
       "      <td>16.199120</td>\n",
       "    </tr>\n",
       "    <tr>\n",
       "      <th>std</th>\n",
       "      <td>16485.669747</td>\n",
       "      <td>13389.800738</td>\n",
       "      <td>6.677760</td>\n",
       "      <td>1.072921e+05</td>\n",
       "      <td>71.283964</td>\n",
       "      <td>0.868001</td>\n",
       "      <td>12.422882</td>\n",
       "    </tr>\n",
       "    <tr>\n",
       "      <th>min</th>\n",
       "      <td>300.000000</td>\n",
       "      <td>700.000000</td>\n",
       "      <td>1970.000000</td>\n",
       "      <td>0.000000e+00</td>\n",
       "      <td>29.000000</td>\n",
       "      <td>2.000000</td>\n",
       "      <td>0.000000</td>\n",
       "    </tr>\n",
       "    <tr>\n",
       "      <th>25%</th>\n",
       "      <td>5500.000000</td>\n",
       "      <td>10790.000000</td>\n",
       "      <td>2007.000000</td>\n",
       "      <td>3.830000e+04</td>\n",
       "      <td>109.000000</td>\n",
       "      <td>4.000000</td>\n",
       "      <td>7.000000</td>\n",
       "    </tr>\n",
       "    <tr>\n",
       "      <th>50%</th>\n",
       "      <td>11750.000000</td>\n",
       "      <td>15500.000000</td>\n",
       "      <td>2015.000000</td>\n",
       "      <td>9.999900e+04</td>\n",
       "      <td>130.000000</td>\n",
       "      <td>5.000000</td>\n",
       "      <td>13.000000</td>\n",
       "    </tr>\n",
       "    <tr>\n",
       "      <th>75%</th>\n",
       "      <td>19800.000000</td>\n",
       "      <td>21995.000000</td>\n",
       "      <td>2018.000000</td>\n",
       "      <td>1.749000e+05</td>\n",
       "      <td>163.000000</td>\n",
       "      <td>5.000000</td>\n",
       "      <td>23.000000</td>\n",
       "    </tr>\n",
       "    <tr>\n",
       "      <th>max</th>\n",
       "      <td>549900.000000</td>\n",
       "      <td>428999.000000</td>\n",
       "      <td>2021.000000</td>\n",
       "      <td>5.000000e+06</td>\n",
       "      <td>800.000000</td>\n",
       "      <td>5.000000</td>\n",
       "      <td>54.000000</td>\n",
       "    </tr>\n",
       "  </tbody>\n",
       "</table>\n",
       "</div>"
      ],
      "text/plain": [
       "               price  price_financed          year           kms  \\\n",
       "count   50000.000000    23563.000000  49998.000000  5.000000e+04   \n",
       "mean    15166.270260    18480.029283   2012.311032  1.163591e+05   \n",
       "std     16485.669747    13389.800738      6.677760  1.072921e+05   \n",
       "min       300.000000      700.000000   1970.000000  0.000000e+00   \n",
       "25%      5500.000000    10790.000000   2007.000000  3.830000e+04   \n",
       "50%     11750.000000    15500.000000   2015.000000  9.999900e+04   \n",
       "75%     19800.000000    21995.000000   2018.000000  1.749000e+05   \n",
       "max    549900.000000   428999.000000   2021.000000  5.000000e+06   \n",
       "\n",
       "              power         doors        photos  \n",
       "count  41472.000000  50000.000000  50000.000000  \n",
       "mean     146.396388      4.505380     16.199120  \n",
       "std       71.283964      0.868001     12.422882  \n",
       "min       29.000000      2.000000      0.000000  \n",
       "25%      109.000000      4.000000      7.000000  \n",
       "50%      130.000000      5.000000     13.000000  \n",
       "75%      163.000000      5.000000     23.000000  \n",
       "max      800.000000      5.000000     54.000000  "
      ]
     },
     "execution_count": 3,
     "metadata": {},
     "output_type": "execute_result"
    }
   ],
   "source": [
    "'''A continuación calculamos los estadísticos más comunes para las columnas numéricas'''\n",
    "\n",
    "anuncios.describe()"
   ]
  },
  {
   "cell_type": "code",
   "execution_count": 4,
   "metadata": {},
   "outputs": [
    {
     "name": "stdout",
     "output_type": "stream",
     "text": [
      "<class 'pandas.core.frame.DataFrame'>\n",
      "RangeIndex: 50000 entries, 0 to 49999\n",
      "Data columns (total 21 columns):\n",
      " #   Column           Non-Null Count  Dtype  \n",
      "---  ------           --------------  -----  \n",
      " 0   url              50000 non-null  object \n",
      " 1   company          50000 non-null  object \n",
      " 2   make             49998 non-null  object \n",
      " 3   model            49995 non-null  object \n",
      " 4   version          50000 non-null  object \n",
      " 5   price            50000 non-null  int64  \n",
      " 6   price_financed   23563 non-null  float64\n",
      " 7   fuel             49954 non-null  object \n",
      " 8   year             49998 non-null  float64\n",
      " 9   kms              50000 non-null  int64  \n",
      " 10  power            41472 non-null  float64\n",
      " 11  doors            50000 non-null  int64  \n",
      " 12  shift            49889 non-null  object \n",
      " 13  color            49406 non-null  object \n",
      " 14  photos           50000 non-null  int64  \n",
      " 15  is_professional  50000 non-null  bool   \n",
      " 16  dealer           50000 non-null  object \n",
      " 17  province         49994 non-null  object \n",
      " 18  country          50000 non-null  object \n",
      " 19  publish_date     50000 non-null  object \n",
      " 20  insert_date      50000 non-null  object \n",
      "dtypes: bool(1), float64(3), int64(4), object(13)\n",
      "memory usage: 7.7+ MB\n"
     ]
    }
   ],
   "source": [
    "'''Mostramos toda la información contenida en el Dataset'''\n",
    "\n",
    "anuncios.info()"
   ]
  },
  {
   "cell_type": "markdown",
   "metadata": {},
   "source": [
    "Podemos observar que el dataset tiene un total de 21 columnas.\n",
    "\n",
    "Cuenta con algunos NaN en muchas de las columnas y tiene variedad de tipologías."
   ]
  },
  {
   "cell_type": "code",
   "execution_count": 5,
   "metadata": {},
   "outputs": [
    {
     "data": {
      "text/plain": [
       "Index(['url', 'company', 'make', 'model', 'version', 'price', 'price_financed',\n",
       "       'fuel', 'year', 'kms', 'power', 'doors', 'shift', 'color', 'photos',\n",
       "       'is_professional', 'dealer', 'province', 'country', 'publish_date',\n",
       "       'insert_date'],\n",
       "      dtype='object')"
      ]
     },
     "execution_count": 5,
     "metadata": {},
     "output_type": "execute_result"
    }
   ],
   "source": [
    "''' Vemos los nombres de las columnas que contiene la base de datos'''\n",
    "\n",
    "anuncios.columns"
   ]
  },
  {
   "cell_type": "code",
   "execution_count": 6,
   "metadata": {},
   "outputs": [
    {
     "name": "stdout",
     "output_type": "stream",
     "text": [
      "Filas: 50000\n",
      "Columnas: 21\n"
     ]
    }
   ],
   "source": [
    "'''Observamos el número de filas y columnas con las que cuenta el Dataset'''\n",
    "\n",
    "print('Filas:', anuncios.shape[0])\n",
    "print('Columnas:', anuncios.shape[1])\n"
   ]
  },
  {
   "cell_type": "markdown",
   "metadata": {},
   "source": [
    "#### Análisis Exploratorio de los Datos"
   ]
  },
  {
   "cell_type": "code",
   "execution_count": 7,
   "metadata": {},
   "outputs": [
    {
     "data": {
      "text/html": [
       "<div>\n",
       "<style scoped>\n",
       "    .dataframe tbody tr th:only-of-type {\n",
       "        vertical-align: middle;\n",
       "    }\n",
       "\n",
       "    .dataframe tbody tr th {\n",
       "        vertical-align: top;\n",
       "    }\n",
       "\n",
       "    .dataframe thead th {\n",
       "        text-align: right;\n",
       "    }\n",
       "</style>\n",
       "<table border=\"1\" class=\"dataframe\">\n",
       "  <thead>\n",
       "    <tr style=\"text-align: right;\">\n",
       "      <th></th>\n",
       "      <th>price</th>\n",
       "      <th>price_financed</th>\n",
       "      <th>year</th>\n",
       "      <th>kms</th>\n",
       "      <th>power</th>\n",
       "      <th>doors</th>\n",
       "      <th>photos</th>\n",
       "      <th>is_professional</th>\n",
       "    </tr>\n",
       "  </thead>\n",
       "  <tbody>\n",
       "    <tr>\n",
       "      <th>price</th>\n",
       "      <td>1.000000</td>\n",
       "      <td>0.997199</td>\n",
       "      <td>0.476886</td>\n",
       "      <td>-0.394514</td>\n",
       "      <td>0.693192</td>\n",
       "      <td>-0.012302</td>\n",
       "      <td>0.295480</td>\n",
       "      <td>0.339699</td>\n",
       "    </tr>\n",
       "    <tr>\n",
       "      <th>price_financed</th>\n",
       "      <td>0.997199</td>\n",
       "      <td>1.000000</td>\n",
       "      <td>0.329882</td>\n",
       "      <td>-0.326330</td>\n",
       "      <td>0.741984</td>\n",
       "      <td>-0.050866</td>\n",
       "      <td>0.085678</td>\n",
       "      <td>NaN</td>\n",
       "    </tr>\n",
       "    <tr>\n",
       "      <th>year</th>\n",
       "      <td>0.476886</td>\n",
       "      <td>0.329882</td>\n",
       "      <td>1.000000</td>\n",
       "      <td>-0.620422</td>\n",
       "      <td>0.027102</td>\n",
       "      <td>0.262363</td>\n",
       "      <td>0.417768</td>\n",
       "      <td>0.612190</td>\n",
       "    </tr>\n",
       "    <tr>\n",
       "      <th>kms</th>\n",
       "      <td>-0.394514</td>\n",
       "      <td>-0.326330</td>\n",
       "      <td>-0.620422</td>\n",
       "      <td>1.000000</td>\n",
       "      <td>-0.012646</td>\n",
       "      <td>-0.105178</td>\n",
       "      <td>-0.294141</td>\n",
       "      <td>-0.447068</td>\n",
       "    </tr>\n",
       "    <tr>\n",
       "      <th>power</th>\n",
       "      <td>0.693192</td>\n",
       "      <td>0.741984</td>\n",
       "      <td>0.027102</td>\n",
       "      <td>-0.012646</td>\n",
       "      <td>1.000000</td>\n",
       "      <td>-0.158604</td>\n",
       "      <td>0.153927</td>\n",
       "      <td>0.003982</td>\n",
       "    </tr>\n",
       "    <tr>\n",
       "      <th>doors</th>\n",
       "      <td>-0.012302</td>\n",
       "      <td>-0.050866</td>\n",
       "      <td>0.262363</td>\n",
       "      <td>-0.105178</td>\n",
       "      <td>-0.158604</td>\n",
       "      <td>1.000000</td>\n",
       "      <td>0.095306</td>\n",
       "      <td>0.158235</td>\n",
       "    </tr>\n",
       "    <tr>\n",
       "      <th>photos</th>\n",
       "      <td>0.295480</td>\n",
       "      <td>0.085678</td>\n",
       "      <td>0.417768</td>\n",
       "      <td>-0.294141</td>\n",
       "      <td>0.153927</td>\n",
       "      <td>0.095306</td>\n",
       "      <td>1.000000</td>\n",
       "      <td>0.565329</td>\n",
       "    </tr>\n",
       "    <tr>\n",
       "      <th>is_professional</th>\n",
       "      <td>0.339699</td>\n",
       "      <td>NaN</td>\n",
       "      <td>0.612190</td>\n",
       "      <td>-0.447068</td>\n",
       "      <td>0.003982</td>\n",
       "      <td>0.158235</td>\n",
       "      <td>0.565329</td>\n",
       "      <td>1.000000</td>\n",
       "    </tr>\n",
       "  </tbody>\n",
       "</table>\n",
       "</div>"
      ],
      "text/plain": [
       "                    price  price_financed      year       kms     power  \\\n",
       "price            1.000000        0.997199  0.476886 -0.394514  0.693192   \n",
       "price_financed   0.997199        1.000000  0.329882 -0.326330  0.741984   \n",
       "year             0.476886        0.329882  1.000000 -0.620422  0.027102   \n",
       "kms             -0.394514       -0.326330 -0.620422  1.000000 -0.012646   \n",
       "power            0.693192        0.741984  0.027102 -0.012646  1.000000   \n",
       "doors           -0.012302       -0.050866  0.262363 -0.105178 -0.158604   \n",
       "photos           0.295480        0.085678  0.417768 -0.294141  0.153927   \n",
       "is_professional  0.339699             NaN  0.612190 -0.447068  0.003982   \n",
       "\n",
       "                    doors    photos  is_professional  \n",
       "price           -0.012302  0.295480         0.339699  \n",
       "price_financed  -0.050866  0.085678              NaN  \n",
       "year             0.262363  0.417768         0.612190  \n",
       "kms             -0.105178 -0.294141        -0.447068  \n",
       "power           -0.158604  0.153927         0.003982  \n",
       "doors            1.000000  0.095306         0.158235  \n",
       "photos           0.095306  1.000000         0.565329  \n",
       "is_professional  0.158235  0.565329         1.000000  "
      ]
     },
     "execution_count": 7,
     "metadata": {},
     "output_type": "execute_result"
    }
   ],
   "source": [
    "''' Calculamos si existe correlacion lineal entre las variables'''\n",
    "\n",
    "anuncios.corr()"
   ]
  },
  {
   "cell_type": "code",
   "execution_count": 8,
   "metadata": {},
   "outputs": [
    {
     "data": {
      "image/png": "[encoded data removed]",
      "text/plain": [
       "<Figure size 1080x720 with 2 Axes>"
      ]
     },
     "metadata": {
      "needs_background": "light"
     },
     "output_type": "display_data"
    }
   ],
   "source": [
    "# Mostramos la correlación en un mapa de calor para poder visualizarlo mejor\n",
    "\n",
    "plt.figure(figsize=(15,10))\n",
    "sns.heatmap(anuncios.corr(), annot=True);"
   ]
  },
  {
   "cell_type": "code",
   "execution_count": 9,
   "metadata": {},
   "outputs": [
    {
     "data": {
      "text/plain": [
       "price              1.000000\n",
       "price_financed     0.997199\n",
       "power              0.693192\n",
       "year               0.476886\n",
       "kms                0.394514\n",
       "is_professional    0.339699\n",
       "photos             0.295480\n",
       "doors              0.012302\n",
       "Name: price, dtype: float64"
      ]
     },
     "execution_count": 9,
     "metadata": {},
     "output_type": "execute_result"
    }
   ],
   "source": [
    "'''Observamos solo la correlación con respecto al precio en valores absolutos\n",
    "y ordenados de forma descendente'''\n",
    "\n",
    "np.abs(anuncios.corr()['price']).sort_values(ascending=False)\n"
   ]
  },
  {
   "cell_type": "markdown",
   "metadata": {},
   "source": [
    "Observamos que, al ser variables numéricas, la que más correlación tiene con el precio es la potencia del vehículo.\n",
    "\n",
    "Sin embargo, vamos a utilizar el coeficiente de phik para poder medir también la correlación de las variables categóricas."
   ]
  },
  {
   "cell_type": "code",
   "execution_count": 10,
   "metadata": {},
   "outputs": [
    {
     "name": "stdout",
     "output_type": "stream",
     "text": [
      "interval columns not set, guessing: ['price', 'year', 'kms', 'power', 'doors']\n"
     ]
    },
    {
     "data": {
      "text/html": [
       "<div>\n",
       "<style scoped>\n",
       "    .dataframe tbody tr th:only-of-type {\n",
       "        vertical-align: middle;\n",
       "    }\n",
       "\n",
       "    .dataframe tbody tr th {\n",
       "        vertical-align: top;\n",
       "    }\n",
       "\n",
       "    .dataframe thead th {\n",
       "        text-align: right;\n",
       "    }\n",
       "</style>\n",
       "<table border=\"1\" class=\"dataframe\">\n",
       "  <thead>\n",
       "    <tr style=\"text-align: right;\">\n",
       "      <th></th>\n",
       "      <th>make</th>\n",
       "      <th>model</th>\n",
       "      <th>price</th>\n",
       "      <th>fuel</th>\n",
       "      <th>year</th>\n",
       "      <th>kms</th>\n",
       "      <th>power</th>\n",
       "      <th>doors</th>\n",
       "      <th>province</th>\n",
       "    </tr>\n",
       "  </thead>\n",
       "  <tbody>\n",
       "    <tr>\n",
       "      <th>make</th>\n",
       "      <td>1.000000</td>\n",
       "      <td>0.999935</td>\n",
       "      <td>0.630297</td>\n",
       "      <td>0.609467</td>\n",
       "      <td>0.291619</td>\n",
       "      <td>0.000000</td>\n",
       "      <td>0.728843</td>\n",
       "      <td>0.527264</td>\n",
       "      <td>0.218280</td>\n",
       "    </tr>\n",
       "    <tr>\n",
       "      <th>model</th>\n",
       "      <td>0.999935</td>\n",
       "      <td>1.000000</td>\n",
       "      <td>0.836472</td>\n",
       "      <td>0.884765</td>\n",
       "      <td>0.853526</td>\n",
       "      <td>0.200061</td>\n",
       "      <td>0.939522</td>\n",
       "      <td>0.907378</td>\n",
       "      <td>0.414294</td>\n",
       "    </tr>\n",
       "    <tr>\n",
       "      <th>price</th>\n",
       "      <td>0.630297</td>\n",
       "      <td>0.836472</td>\n",
       "      <td>1.000000</td>\n",
       "      <td>0.098020</td>\n",
       "      <td>0.086578</td>\n",
       "      <td>0.000000</td>\n",
       "      <td>0.637399</td>\n",
       "      <td>0.132500</td>\n",
       "      <td>0.000000</td>\n",
       "    </tr>\n",
       "    <tr>\n",
       "      <th>fuel</th>\n",
       "      <td>0.609467</td>\n",
       "      <td>0.884765</td>\n",
       "      <td>0.098020</td>\n",
       "      <td>1.000000</td>\n",
       "      <td>0.221285</td>\n",
       "      <td>0.000000</td>\n",
       "      <td>0.268269</td>\n",
       "      <td>0.207396</td>\n",
       "      <td>0.187887</td>\n",
       "    </tr>\n",
       "    <tr>\n",
       "      <th>year</th>\n",
       "      <td>0.291619</td>\n",
       "      <td>0.853526</td>\n",
       "      <td>0.086578</td>\n",
       "      <td>0.221285</td>\n",
       "      <td>1.000000</td>\n",
       "      <td>0.064130</td>\n",
       "      <td>0.083448</td>\n",
       "      <td>0.266756</td>\n",
       "      <td>0.173120</td>\n",
       "    </tr>\n",
       "    <tr>\n",
       "      <th>kms</th>\n",
       "      <td>0.000000</td>\n",
       "      <td>0.200061</td>\n",
       "      <td>0.000000</td>\n",
       "      <td>0.000000</td>\n",
       "      <td>0.064130</td>\n",
       "      <td>1.000000</td>\n",
       "      <td>0.000000</td>\n",
       "      <td>0.013343</td>\n",
       "      <td>0.029391</td>\n",
       "    </tr>\n",
       "    <tr>\n",
       "      <th>power</th>\n",
       "      <td>0.728843</td>\n",
       "      <td>0.939522</td>\n",
       "      <td>0.637399</td>\n",
       "      <td>0.268269</td>\n",
       "      <td>0.083448</td>\n",
       "      <td>0.000000</td>\n",
       "      <td>1.000000</td>\n",
       "      <td>0.323719</td>\n",
       "      <td>0.105253</td>\n",
       "    </tr>\n",
       "    <tr>\n",
       "      <th>doors</th>\n",
       "      <td>0.527264</td>\n",
       "      <td>0.907378</td>\n",
       "      <td>0.132500</td>\n",
       "      <td>0.207396</td>\n",
       "      <td>0.266756</td>\n",
       "      <td>0.013343</td>\n",
       "      <td>0.323719</td>\n",
       "      <td>1.000000</td>\n",
       "      <td>0.124105</td>\n",
       "    </tr>\n",
       "    <tr>\n",
       "      <th>province</th>\n",
       "      <td>0.218280</td>\n",
       "      <td>0.414294</td>\n",
       "      <td>0.000000</td>\n",
       "      <td>0.187887</td>\n",
       "      <td>0.173120</td>\n",
       "      <td>0.029391</td>\n",
       "      <td>0.105253</td>\n",
       "      <td>0.124105</td>\n",
       "      <td>1.000000</td>\n",
       "    </tr>\n",
       "  </tbody>\n",
       "</table>\n",
       "</div>"
      ],
      "text/plain": [
       "              make     model     price      fuel      year       kms  \\\n",
       "make      1.000000  0.999935  0.630297  0.609467  0.291619  0.000000   \n",
       "model     0.999935  1.000000  0.836472  0.884765  0.853526  0.200061   \n",
       "price     0.630297  0.836472  1.000000  0.098020  0.086578  0.000000   \n",
       "fuel      0.609467  0.884765  0.098020  1.000000  0.221285  0.000000   \n",
       "year      0.291619  0.853526  0.086578  0.221285  1.000000  0.064130   \n",
       "kms       0.000000  0.200061  0.000000  0.000000  0.064130  1.000000   \n",
       "power     0.728843  0.939522  0.637399  0.268269  0.083448  0.000000   \n",
       "doors     0.527264  0.907378  0.132500  0.207396  0.266756  0.013343   \n",
       "province  0.218280  0.414294  0.000000  0.187887  0.173120  0.029391   \n",
       "\n",
       "             power     doors  province  \n",
       "make      0.728843  0.527264  0.218280  \n",
       "model     0.939522  0.907378  0.414294  \n",
       "price     0.637399  0.132500  0.000000  \n",
       "fuel      0.268269  0.207396  0.187887  \n",
       "year      0.083448  0.266756  0.173120  \n",
       "kms       0.000000  0.013343  0.029391  \n",
       "power     1.000000  0.323719  0.105253  \n",
       "doors     0.323719  1.000000  0.124105  \n",
       "province  0.105253  0.124105  1.000000  "
      ]
     },
     "execution_count": 10,
     "metadata": {},
     "output_type": "execute_result"
    }
   ],
   "source": [
    "'''Guardamos en una variable las columnas más relevantes de nuestra base de datos para que\n",
    "    el coeficiente se pueda calcular más rápido'''\n",
    "\n",
    "cols = ['make', 'model', 'price', 'fuel', 'year', 'kms', 'power', 'doors', 'province']\n",
    "anuncios[cols].phik_matrix()"
   ]
  },
  {
   "cell_type": "code",
   "execution_count": 11,
   "metadata": {},
   "outputs": [
    {
     "name": "stdout",
     "output_type": "stream",
     "text": [
      "interval columns not set, guessing: ['price', 'year', 'kms', 'power', 'doors']\n"
     ]
    },
    {
     "data": {
      "image/png": "[encoded data removed]",
      "text/plain": [
       "<Figure size 1080x720 with 2 Axes>"
      ]
     },
     "metadata": {
      "needs_background": "light"
     },
     "output_type": "display_data"
    }
   ],
   "source": [
    "# Generamos un mapa de calor\n",
    "\n",
    "plt.figure(figsize=(15,10))\n",
    "sns.heatmap(anuncios[cols].phik_matrix(), cmap= \"YlGnBu\", annot=True);"
   ]
  },
  {
   "cell_type": "code",
   "execution_count": 12,
   "metadata": {},
   "outputs": [
    {
     "name": "stdout",
     "output_type": "stream",
     "text": [
      "interval columns not set, guessing: ['price', 'year', 'kms', 'power', 'doors']\n"
     ]
    },
    {
     "data": {
      "text/plain": [
       "price       1.000000\n",
       "model       0.836472\n",
       "power       0.637399\n",
       "make        0.630297\n",
       "doors       0.132500\n",
       "fuel        0.098020\n",
       "year        0.086578\n",
       "kms         0.000000\n",
       "province    0.000000\n",
       "Name: price, dtype: float64"
      ]
     },
     "execution_count": 12,
     "metadata": {},
     "output_type": "execute_result"
    }
   ],
   "source": [
    "'''Ordenamos la correlación del precio en valores absolutos para visualizarlos mejor'''\n",
    "np.abs(anuncios[cols].phik_matrix()['price']).sort_values(ascending=False)"
   ]
  },
  {
   "cell_type": "markdown",
   "metadata": {},
   "source": [
    "##### Gráficos"
   ]
  },
  {
   "cell_type": "code",
   "execution_count": 13,
   "metadata": {},
   "outputs": [
    {
     "data": {
      "image/png": "[encoded data removed]",
      "text/plain": [
       "<Figure size 432x288 with 1 Axes>"
      ]
     },
     "metadata": {
      "needs_background": "light"
     },
     "output_type": "display_data"
    }
   ],
   "source": [
    "'''Representación gráfica del precio de los coches con respecto a la potencia'''\n",
    "\n",
    "sns.scatterplot(x = anuncios['power'], y=anuncios['price']);"
   ]
  },
  {
   "cell_type": "markdown",
   "metadata": {},
   "source": [
    "Comprobamos cómo de gaussiana es nuestra distribución del precio.\n",
    "\n",
    "Para ello, vamos a comparar nuestro datos originales con una transformación logaritmica y Box-Cox."
   ]
  },
  {
   "cell_type": "code",
   "execution_count": 14,
   "metadata": {},
   "outputs": [
    {
     "data": {
      "image/png": "[encoded data removed]",
      "text/plain": [
       "<Figure size 1440x360 with 3 Axes>"
      ]
     },
     "metadata": {
      "needs_background": "light"
     },
     "output_type": "display_data"
    }
   ],
   "source": [
    "fig, axes = plt.subplots(1, 3, figsize=(20,5))\n",
    "\n",
    "# Original\n",
    "\n",
    "sns.histplot(anuncios['price'], kde=False, ax= axes[0])\n",
    "axes[0].set_title('Original price')\n",
    "\n",
    "# Logaritmica\n",
    "\n",
    "sns.histplot(np.log(anuncios['price']), kde= False, ax = axes[1])\n",
    "axes[1].set_title('Logaritmica')\n",
    "\n",
    "# Box-cox\n",
    "\n",
    "sns.histplot(stats.boxcox(anuncios['price'])[0], kde=False, ax= axes[2])\n",
    "axes[2].set_title('Box-cox');"
   ]
  },
  {
   "cell_type": "markdown",
   "metadata": {},
   "source": [
    "Comprobamos que realizando una transformación logaritmica nuestros datos queda distribuidos de forma más \"normal\"."
   ]
  },
  {
   "cell_type": "code",
   "execution_count": 15,
   "metadata": {},
   "outputs": [
    {
     "data": {
      "image/png": "[encoded data removed]",
      "text/plain": [
       "<Figure size 432x288 with 1 Axes>"
      ]
     },
     "metadata": {
      "needs_background": "light"
     },
     "output_type": "display_data"
    }
   ],
   "source": [
    "'''A continuación vemos la distribución de cuáles son las marcas de coches que más se anuncian'''\n",
    "\n",
    "sns.barplot(x=anuncios['make'].value_counts()[:10].keys(), y=anuncios['make'].value_counts()[:10])\n",
    "plt.ylabel('Top 10 en venta')\n",
    "plt.xlabel('Marcas')\n",
    "plt.xticks(rotation=75);"
   ]
  },
  {
   "cell_type": "code",
   "execution_count": 16,
   "metadata": {},
   "outputs": [
    {
     "data": {
      "image/png": "[encoded data removed]",
      "text/plain": [
       "<Figure size 576x576 with 1 Axes>"
      ]
     },
     "metadata": {},
     "output_type": "display_data"
    }
   ],
   "source": [
    "'''Mostramos la distribución de los vehículos en función del tipo de combustible que utilizan'''\n",
    "\n",
    "plt.figure(figsize=(8,8))\n",
    "plt.pie(anuncios['fuel'].value_counts()/(anuncios['fuel'].value_counts().sum())*100, \n",
    "        labels=anuncios['fuel'].value_counts().keys(), autopct='%.2f%%', pctdistance=0.8);\n"
   ]
  },
  {
   "cell_type": "markdown",
   "metadata": {},
   "source": [
    "Se puede evidenciar que más del 90 % de los vehículos que están anunciados son Diésel o Gasolina."
   ]
  },
  {
   "cell_type": "code",
   "execution_count": 17,
   "metadata": {},
   "outputs": [
    {
     "data": {
      "image/png": "[encoded data removed]",
      "text/plain": [
       "<Figure size 720x504 with 1 Axes>"
      ]
     },
     "metadata": {
      "needs_background": "light"
     },
     "output_type": "display_data"
    }
   ],
   "source": [
    "'''Distribución de anuncios por provincia'''\n",
    "\n",
    "plt.figure(figsize=(10,7))\n",
    "\n",
    "sns.pointplot(x=anuncios['province'].value_counts().keys(), y=anuncios['province'].value_counts()/(anuncios['make'].value_counts().sum())*100)\n",
    "plt.ylabel('Porcentaje de coches por provincia')\n",
    "plt.xlabel('Marcas')\n",
    "plt.xticks(rotation=90);"
   ]
  },
  {
   "cell_type": "markdown",
   "metadata": {},
   "source": [
    "Aquí podemos ver que son Madrid y Barcelona las ciudades que concentran el mayor número de anuncios de venta de coches de segunda mano."
   ]
  },
  {
   "cell_type": "markdown",
   "metadata": {},
   "source": [
    "## Machine Learning"
   ]
  },
  {
   "cell_type": "markdown",
   "metadata": {},
   "source": [
    "### Preprocesado de Datos"
   ]
  },
  {
   "cell_type": "markdown",
   "metadata": {},
   "source": [
    "De nuestro dataframe creado `anuncios` vamos a eliminar las columnas que no son útiles para nuestro caso"
   ]
  },
  {
   "cell_type": "code",
   "execution_count": 18,
   "metadata": {},
   "outputs": [
    {
     "data": {
      "text/html": [
       "<div>\n",
       "<style scoped>\n",
       "    .dataframe tbody tr th:only-of-type {\n",
       "        vertical-align: middle;\n",
       "    }\n",
       "\n",
       "    .dataframe tbody tr th {\n",
       "        vertical-align: top;\n",
       "    }\n",
       "\n",
       "    .dataframe thead th {\n",
       "        text-align: right;\n",
       "    }\n",
       "</style>\n",
       "<table border=\"1\" class=\"dataframe\">\n",
       "  <thead>\n",
       "    <tr style=\"text-align: right;\">\n",
       "      <th></th>\n",
       "      <th>make</th>\n",
       "      <th>model</th>\n",
       "      <th>price</th>\n",
       "      <th>fuel</th>\n",
       "      <th>year</th>\n",
       "      <th>power</th>\n",
       "      <th>province</th>\n",
       "    </tr>\n",
       "  </thead>\n",
       "  <tbody>\n",
       "    <tr>\n",
       "      <th>0</th>\n",
       "      <td>SEAT</td>\n",
       "      <td>Toledo</td>\n",
       "      <td>950</td>\n",
       "      <td>Diésel</td>\n",
       "      <td>2000.0</td>\n",
       "      <td>NaN</td>\n",
       "      <td>Navarra</td>\n",
       "    </tr>\n",
       "    <tr>\n",
       "      <th>1</th>\n",
       "      <td>CITROEN</td>\n",
       "      <td>C1</td>\n",
       "      <td>6200</td>\n",
       "      <td>Gasolina</td>\n",
       "      <td>2017.0</td>\n",
       "      <td>82.0</td>\n",
       "      <td>Tenerife</td>\n",
       "    </tr>\n",
       "    <tr>\n",
       "      <th>2</th>\n",
       "      <td>FORD</td>\n",
       "      <td>Transit Connect</td>\n",
       "      <td>7851</td>\n",
       "      <td>Diésel</td>\n",
       "      <td>2016.0</td>\n",
       "      <td>100.0</td>\n",
       "      <td>Barcelona</td>\n",
       "    </tr>\n",
       "    <tr>\n",
       "      <th>3</th>\n",
       "      <td>VOLKSWAGEN</td>\n",
       "      <td>Caravelle</td>\n",
       "      <td>19426</td>\n",
       "      <td>Diésel</td>\n",
       "      <td>2014.0</td>\n",
       "      <td>140.0</td>\n",
       "      <td>Navarra</td>\n",
       "    </tr>\n",
       "    <tr>\n",
       "      <th>4</th>\n",
       "      <td>FORD</td>\n",
       "      <td>Transit</td>\n",
       "      <td>22850</td>\n",
       "      <td>Diésel</td>\n",
       "      <td>2017.0</td>\n",
       "      <td>130.0</td>\n",
       "      <td>Sevilla</td>\n",
       "    </tr>\n",
       "  </tbody>\n",
       "</table>\n",
       "</div>"
      ],
      "text/plain": [
       "         make            model  price      fuel    year  power   province\n",
       "0        SEAT           Toledo    950    Diésel  2000.0    NaN    Navarra\n",
       "1     CITROEN               C1   6200  Gasolina  2017.0   82.0   Tenerife\n",
       "2        FORD  Transit Connect   7851    Diésel  2016.0  100.0  Barcelona\n",
       "3  VOLKSWAGEN        Caravelle  19426    Diésel  2014.0  140.0    Navarra\n",
       "4        FORD          Transit  22850    Diésel  2017.0  130.0    Sevilla"
      ]
     },
     "execution_count": 18,
     "metadata": {},
     "output_type": "execute_result"
    }
   ],
   "source": [
    "anuncios = anuncios.drop(columns=['url', 'company', 'version', 'price_financed', 'kms', 'doors',\n",
    "                         'shift', 'color', 'photos', 'is_professional', 'dealer', \n",
    "                         'country', 'publish_date', 'insert_date'])\n",
    "anuncios.head()"
   ]
  },
  {
   "cell_type": "markdown",
   "metadata": {},
   "source": [
    "A continuación vamos a eliminar las filas NaN de la columna \"make\" ya que no tiene ningún sentido entrenar un modelo para predecir el precio de un vehículo sin marca"
   ]
  },
  {
   "cell_type": "code",
   "execution_count": 19,
   "metadata": {},
   "outputs": [
    {
     "data": {
      "text/html": [
       "<div>\n",
       "<style scoped>\n",
       "    .dataframe tbody tr th:only-of-type {\n",
       "        vertical-align: middle;\n",
       "    }\n",
       "\n",
       "    .dataframe tbody tr th {\n",
       "        vertical-align: top;\n",
       "    }\n",
       "\n",
       "    .dataframe thead th {\n",
       "        text-align: right;\n",
       "    }\n",
       "</style>\n",
       "<table border=\"1\" class=\"dataframe\">\n",
       "  <thead>\n",
       "    <tr style=\"text-align: right;\">\n",
       "      <th></th>\n",
       "      <th>make</th>\n",
       "      <th>model</th>\n",
       "      <th>price</th>\n",
       "      <th>fuel</th>\n",
       "      <th>year</th>\n",
       "      <th>power</th>\n",
       "      <th>province</th>\n",
       "    </tr>\n",
       "  </thead>\n",
       "  <tbody>\n",
       "    <tr>\n",
       "      <th>0</th>\n",
       "      <td>SEAT</td>\n",
       "      <td>Toledo</td>\n",
       "      <td>950</td>\n",
       "      <td>Diésel</td>\n",
       "      <td>2000.0</td>\n",
       "      <td>NaN</td>\n",
       "      <td>Navarra</td>\n",
       "    </tr>\n",
       "    <tr>\n",
       "      <th>1</th>\n",
       "      <td>CITROEN</td>\n",
       "      <td>C1</td>\n",
       "      <td>6200</td>\n",
       "      <td>Gasolina</td>\n",
       "      <td>2017.0</td>\n",
       "      <td>82.0</td>\n",
       "      <td>Tenerife</td>\n",
       "    </tr>\n",
       "    <tr>\n",
       "      <th>2</th>\n",
       "      <td>FORD</td>\n",
       "      <td>Transit Connect</td>\n",
       "      <td>7851</td>\n",
       "      <td>Diésel</td>\n",
       "      <td>2016.0</td>\n",
       "      <td>100.0</td>\n",
       "      <td>Barcelona</td>\n",
       "    </tr>\n",
       "    <tr>\n",
       "      <th>3</th>\n",
       "      <td>VOLKSWAGEN</td>\n",
       "      <td>Caravelle</td>\n",
       "      <td>19426</td>\n",
       "      <td>Diésel</td>\n",
       "      <td>2014.0</td>\n",
       "      <td>140.0</td>\n",
       "      <td>Navarra</td>\n",
       "    </tr>\n",
       "    <tr>\n",
       "      <th>4</th>\n",
       "      <td>FORD</td>\n",
       "      <td>Transit</td>\n",
       "      <td>22850</td>\n",
       "      <td>Diésel</td>\n",
       "      <td>2017.0</td>\n",
       "      <td>130.0</td>\n",
       "      <td>Sevilla</td>\n",
       "    </tr>\n",
       "  </tbody>\n",
       "</table>\n",
       "</div>"
      ],
      "text/plain": [
       "         make            model  price      fuel    year  power   province\n",
       "0        SEAT           Toledo    950    Diésel  2000.0    NaN    Navarra\n",
       "1     CITROEN               C1   6200  Gasolina  2017.0   82.0   Tenerife\n",
       "2        FORD  Transit Connect   7851    Diésel  2016.0  100.0  Barcelona\n",
       "3  VOLKSWAGEN        Caravelle  19426    Diésel  2014.0  140.0    Navarra\n",
       "4        FORD          Transit  22850    Diésel  2017.0  130.0    Sevilla"
      ]
     },
     "execution_count": 19,
     "metadata": {},
     "output_type": "execute_result"
    }
   ],
   "source": [
    "anuncios = anuncios.dropna(subset=['make'])\n",
    "anuncios.head()"
   ]
  },
  {
   "cell_type": "code",
   "execution_count": 20,
   "metadata": {},
   "outputs": [
    {
     "name": "stdout",
     "output_type": "stream",
     "text": [
      "<class 'pandas.core.frame.DataFrame'>\n",
      "Int64Index: 49998 entries, 0 to 49999\n",
      "Data columns (total 7 columns):\n",
      " #   Column    Non-Null Count  Dtype  \n",
      "---  ------    --------------  -----  \n",
      " 0   make      49998 non-null  object \n",
      " 1   model     49993 non-null  object \n",
      " 2   price     49998 non-null  int64  \n",
      " 3   fuel      49952 non-null  object \n",
      " 4   year      49996 non-null  float64\n",
      " 5   power     41470 non-null  float64\n",
      " 6   province  49992 non-null  object \n",
      "dtypes: float64(2), int64(1), object(4)\n",
      "memory usage: 3.1+ MB\n"
     ]
    }
   ],
   "source": [
    "anuncios.info()"
   ]
  },
  {
   "cell_type": "code",
   "execution_count": 122,
   "metadata": {},
   "outputs": [],
   "source": [
    "# Librerias\n",
    "from sklearn.model_selection import train_test_split\n",
    "from sklearn.preprocessing import StandardScaler\n",
    "from sklearn.preprocessing import MinMaxScaler\n",
    "from sklearn.ensemble import RandomForestRegressor\n",
    "from sklearn.feature_selection import SelectKBest\n",
    "from sklearn.pipeline import Pipeline\n",
    "from sklearn.model_selection import GridSearchCV\n",
    "from sklearn.svm import SVR\n",
    "from sklearn.neighbors import KNeighborsRegressor\n",
    "from xgboost import XGBRegressor\n",
    "import category_encoders as ce\n",
    "from sklearn.model_selection import RepeatedKFold\n",
    "from sklearn.linear_model import LinearRegression\n",
    "from sklearn.tree import DecisionTreeRegressor\n",
    "import pickle"
   ]
  },
  {
   "cell_type": "markdown",
   "metadata": {},
   "source": [
    "#### Separamos el Dataset en X e Y"
   ]
  },
  {
   "cell_type": "code",
   "execution_count": 22,
   "metadata": {},
   "outputs": [],
   "source": [
    "X = anuncios.drop(columns=['price'])\n",
    "y = anuncios['price']"
   ]
  },
  {
   "cell_type": "markdown",
   "metadata": {},
   "source": [
    "#### Dividimos en Train y Test"
   ]
  },
  {
   "cell_type": "code",
   "execution_count": 23,
   "metadata": {},
   "outputs": [],
   "source": [
    "X_train, X_test, y_train, y_test = train_test_split(X, y, test_size= 0.3, random_state=42)"
   ]
  },
  {
   "cell_type": "code",
   "execution_count": 24,
   "metadata": {},
   "outputs": [
    {
     "name": "stdout",
     "output_type": "stream",
     "text": [
      "(34998, 6)\n",
      "(15000, 6)\n",
      "(34998,)\n",
      "(15000,)\n"
     ]
    }
   ],
   "source": [
    "# Vemos los tamaños de nuestros datos\n",
    "\n",
    "print(X_train.shape)\n",
    "print(X_test.shape)\n",
    "print(y_train.shape)\n",
    "print(y_test.shape)"
   ]
  },
  {
   "cell_type": "markdown",
   "metadata": {},
   "source": [
    "#### Tratamiento missings"
   ]
  },
  {
   "cell_type": "markdown",
   "metadata": {},
   "source": [
    "Para que una vez preparado el modelo no se nos pase hacer los mismos cambios en X_test, lo vamos a hacer sobre a la misma vez que con X_train"
   ]
  },
  {
   "cell_type": "markdown",
   "metadata": {},
   "source": [
    "Comprobamos qué variables tienen missings"
   ]
  },
  {
   "cell_type": "code",
   "execution_count": 25,
   "metadata": {},
   "outputs": [
    {
     "data": {
      "text/plain": [
       "make           0\n",
       "model          4\n",
       "fuel          33\n",
       "year           1\n",
       "power       5994\n",
       "province       2\n",
       "dtype: int64"
      ]
     },
     "execution_count": 25,
     "metadata": {},
     "output_type": "execute_result"
    }
   ],
   "source": [
    "X_train.isnull().sum()"
   ]
  },
  {
   "cell_type": "code",
   "execution_count": 26,
   "metadata": {},
   "outputs": [
    {
     "data": {
      "text/plain": [
       "make           0\n",
       "model          1\n",
       "fuel          13\n",
       "year           1\n",
       "power       2534\n",
       "province       4\n",
       "dtype: int64"
      ]
     },
     "execution_count": 26,
     "metadata": {},
     "output_type": "execute_result"
    }
   ],
   "source": [
    "X_test.isnull().sum()"
   ]
  },
  {
   "cell_type": "markdown",
   "metadata": {},
   "source": [
    "Cambiamos el tipo de dato en \"year\" y \"power\""
   ]
  },
  {
   "cell_type": "code",
   "execution_count": 27,
   "metadata": {},
   "outputs": [],
   "source": [
    "X_train['year'] = X_train['year'].astype('int64', errors='ignore')\n",
    "X_train['power'] = X_train['power'].astype('int64', errors='ignore')"
   ]
  },
  {
   "cell_type": "code",
   "execution_count": 28,
   "metadata": {},
   "outputs": [],
   "source": [
    "X_test['year'] = X_test['year'].astype('int64', errors='ignore')\n",
    "X_test['power'] = X_test['power'].astype('int64', errors='ignore')"
   ]
  },
  {
   "cell_type": "markdown",
   "metadata": {},
   "source": [
    "Separamos en dos listas los distintos tipos de datos: categóricas y numéricas"
   ]
  },
  {
   "cell_type": "code",
   "execution_count": 29,
   "metadata": {},
   "outputs": [],
   "source": [
    "categorica = ['model', 'fuel', 'province']"
   ]
  },
  {
   "cell_type": "markdown",
   "metadata": {},
   "source": [
    "Rellenamos missings de las categóricas con la moda.\n",
    "\n",
    "En X_test rellenamos con la moda que hemos aplicado en X_train"
   ]
  },
  {
   "cell_type": "code",
   "execution_count": 30,
   "metadata": {},
   "outputs": [],
   "source": [
    "for c in categorica:\n",
    "    X_train[c].fillna(X_train[c].mode()[0], inplace=True)\n",
    "    X_test[c].fillna(X_train[c].mode()[0], inplace=True)\n",
    "\n",
    "    "
   ]
  },
  {
   "cell_type": "code",
   "execution_count": 31,
   "metadata": {},
   "outputs": [],
   "source": [
    "numerico = ['year', 'power']"
   ]
  },
  {
   "cell_type": "markdown",
   "metadata": {},
   "source": [
    "Rellenamos missings de las numéricas con la mediana.\n",
    "\n",
    "En X_test rellenamos con la mediana que hemos aplicado en X_train"
   ]
  },
  {
   "cell_type": "code",
   "execution_count": 32,
   "metadata": {},
   "outputs": [],
   "source": [
    "for c in numerico:\n",
    "    X_train[c].fillna(X_train[c].median(), inplace=True)\n",
    "    X_test[c].fillna(X_train[c].median(), inplace=True)"
   ]
  },
  {
   "cell_type": "markdown",
   "metadata": {},
   "source": [
    "Cambiamos el tipo de dato"
   ]
  },
  {
   "cell_type": "code",
   "execution_count": 33,
   "metadata": {},
   "outputs": [],
   "source": [
    "X_train['year'] = X_train['year'].astype('int64', errors='ignore')\n",
    "X_train['power'] = X_train['power'].astype('int64', errors='ignore')"
   ]
  },
  {
   "cell_type": "code",
   "execution_count": 34,
   "metadata": {},
   "outputs": [],
   "source": [
    "X_test['year'] = X_test['year'].astype('int64', errors='ignore')\n",
    "X_test['power'] = X_test['power'].astype('int64', errors='ignore')"
   ]
  },
  {
   "cell_type": "markdown",
   "metadata": {},
   "source": [
    "Confirmamos que hemos dejado sin missings ambos conjuntos"
   ]
  },
  {
   "cell_type": "code",
   "execution_count": 35,
   "metadata": {},
   "outputs": [
    {
     "name": "stdout",
     "output_type": "stream",
     "text": [
      "<class 'pandas.core.frame.DataFrame'>\n",
      "Int64Index: 34998 entries, 38093 to 15796\n",
      "Data columns (total 6 columns):\n",
      " #   Column    Non-Null Count  Dtype \n",
      "---  ------    --------------  ----- \n",
      " 0   make      34998 non-null  object\n",
      " 1   model     34998 non-null  object\n",
      " 2   fuel      34998 non-null  object\n",
      " 3   year      34998 non-null  int64 \n",
      " 4   power     34998 non-null  int64 \n",
      " 5   province  34998 non-null  object\n",
      "dtypes: int64(2), object(4)\n",
      "memory usage: 1.9+ MB\n"
     ]
    }
   ],
   "source": [
    "X_train.info()"
   ]
  },
  {
   "cell_type": "code",
   "execution_count": 36,
   "metadata": {},
   "outputs": [
    {
     "name": "stdout",
     "output_type": "stream",
     "text": [
      "<class 'pandas.core.frame.DataFrame'>\n",
      "Int64Index: 15000 entries, 33553 to 15110\n",
      "Data columns (total 6 columns):\n",
      " #   Column    Non-Null Count  Dtype \n",
      "---  ------    --------------  ----- \n",
      " 0   make      15000 non-null  object\n",
      " 1   model     15000 non-null  object\n",
      " 2   fuel      15000 non-null  object\n",
      " 3   year      15000 non-null  int64 \n",
      " 4   power     15000 non-null  int64 \n",
      " 5   province  15000 non-null  object\n",
      "dtypes: int64(2), object(4)\n",
      "memory usage: 820.3+ KB\n"
     ]
    }
   ],
   "source": [
    "X_test.info()"
   ]
  },
  {
   "cell_type": "markdown",
   "metadata": {},
   "source": [
    "Unimos en una sola columna Marca y Modelo de coche para posteriormente transformarlo en una variable numérica y estandarizarlo para nuestro modelo.\n",
    "\n",
    "Eliminamos dichas columnas para que nuestro modelo no necesite luego esos inputs."
   ]
  },
  {
   "cell_type": "code",
   "execution_count": 37,
   "metadata": {},
   "outputs": [
    {
     "data": {
      "text/html": [
       "<div>\n",
       "<style scoped>\n",
       "    .dataframe tbody tr th:only-of-type {\n",
       "        vertical-align: middle;\n",
       "    }\n",
       "\n",
       "    .dataframe tbody tr th {\n",
       "        vertical-align: top;\n",
       "    }\n",
       "\n",
       "    .dataframe thead th {\n",
       "        text-align: right;\n",
       "    }\n",
       "</style>\n",
       "<table border=\"1\" class=\"dataframe\">\n",
       "  <thead>\n",
       "    <tr style=\"text-align: right;\">\n",
       "      <th></th>\n",
       "      <th>make</th>\n",
       "      <th>model</th>\n",
       "      <th>marca_modelo</th>\n",
       "      <th>fuel</th>\n",
       "      <th>year</th>\n",
       "      <th>power</th>\n",
       "      <th>province</th>\n",
       "    </tr>\n",
       "  </thead>\n",
       "  <tbody>\n",
       "    <tr>\n",
       "      <th>38093</th>\n",
       "      <td>MERCEDES-BENZ</td>\n",
       "      <td>Clase C</td>\n",
       "      <td>MERCEDES-BENZ_Clase C</td>\n",
       "      <td>Diésel</td>\n",
       "      <td>2014</td>\n",
       "      <td>170</td>\n",
       "      <td>Madrid</td>\n",
       "    </tr>\n",
       "    <tr>\n",
       "      <th>36015</th>\n",
       "      <td>VOLKSWAGEN</td>\n",
       "      <td>Touareg</td>\n",
       "      <td>VOLKSWAGEN_Touareg</td>\n",
       "      <td>Diésel</td>\n",
       "      <td>2007</td>\n",
       "      <td>240</td>\n",
       "      <td>Barcelona</td>\n",
       "    </tr>\n",
       "    <tr>\n",
       "      <th>40354</th>\n",
       "      <td>CITROEN</td>\n",
       "      <td>C1</td>\n",
       "      <td>CITROEN_C1</td>\n",
       "      <td>Gasolina</td>\n",
       "      <td>2020</td>\n",
       "      <td>72</td>\n",
       "      <td>Valencia</td>\n",
       "    </tr>\n",
       "    <tr>\n",
       "      <th>33939</th>\n",
       "      <td>NISSAN</td>\n",
       "      <td>Almera</td>\n",
       "      <td>NISSAN_Almera</td>\n",
       "      <td>Diésel</td>\n",
       "      <td>2001</td>\n",
       "      <td>130</td>\n",
       "      <td>Valencia</td>\n",
       "    </tr>\n",
       "    <tr>\n",
       "      <th>41707</th>\n",
       "      <td>SKODA</td>\n",
       "      <td>Fabia</td>\n",
       "      <td>SKODA_Fabia</td>\n",
       "      <td>Gasolina</td>\n",
       "      <td>2020</td>\n",
       "      <td>95</td>\n",
       "      <td>Barcelona</td>\n",
       "    </tr>\n",
       "  </tbody>\n",
       "</table>\n",
       "</div>"
      ],
      "text/plain": [
       "                make    model           marca_modelo      fuel  year  power  \\\n",
       "38093  MERCEDES-BENZ  Clase C  MERCEDES-BENZ_Clase C    Diésel  2014    170   \n",
       "36015     VOLKSWAGEN  Touareg     VOLKSWAGEN_Touareg    Diésel  2007    240   \n",
       "40354        CITROEN       C1             CITROEN_C1  Gasolina  2020     72   \n",
       "33939         NISSAN   Almera          NISSAN_Almera    Diésel  2001    130   \n",
       "41707          SKODA    Fabia            SKODA_Fabia  Gasolina  2020     95   \n",
       "\n",
       "        province  \n",
       "38093     Madrid  \n",
       "36015  Barcelona  \n",
       "40354   Valencia  \n",
       "33939   Valencia  \n",
       "41707  Barcelona  "
      ]
     },
     "execution_count": 37,
     "metadata": {},
     "output_type": "execute_result"
    }
   ],
   "source": [
    "X_train.insert(2, 'marca_modelo', X_train[['make', 'model']].apply('_'.join, axis=1))\n",
    "X_train.head()"
   ]
  },
  {
   "cell_type": "code",
   "execution_count": 38,
   "metadata": {},
   "outputs": [
    {
     "data": {
      "text/html": [
       "<div>\n",
       "<style scoped>\n",
       "    .dataframe tbody tr th:only-of-type {\n",
       "        vertical-align: middle;\n",
       "    }\n",
       "\n",
       "    .dataframe tbody tr th {\n",
       "        vertical-align: top;\n",
       "    }\n",
       "\n",
       "    .dataframe thead th {\n",
       "        text-align: right;\n",
       "    }\n",
       "</style>\n",
       "<table border=\"1\" class=\"dataframe\">\n",
       "  <thead>\n",
       "    <tr style=\"text-align: right;\">\n",
       "      <th></th>\n",
       "      <th>marca_modelo</th>\n",
       "      <th>fuel</th>\n",
       "      <th>year</th>\n",
       "      <th>power</th>\n",
       "      <th>province</th>\n",
       "    </tr>\n",
       "  </thead>\n",
       "  <tbody>\n",
       "    <tr>\n",
       "      <th>38093</th>\n",
       "      <td>MERCEDES-BENZ_Clase C</td>\n",
       "      <td>Diésel</td>\n",
       "      <td>2014</td>\n",
       "      <td>170</td>\n",
       "      <td>Madrid</td>\n",
       "    </tr>\n",
       "    <tr>\n",
       "      <th>36015</th>\n",
       "      <td>VOLKSWAGEN_Touareg</td>\n",
       "      <td>Diésel</td>\n",
       "      <td>2007</td>\n",
       "      <td>240</td>\n",
       "      <td>Barcelona</td>\n",
       "    </tr>\n",
       "    <tr>\n",
       "      <th>40354</th>\n",
       "      <td>CITROEN_C1</td>\n",
       "      <td>Gasolina</td>\n",
       "      <td>2020</td>\n",
       "      <td>72</td>\n",
       "      <td>Valencia</td>\n",
       "    </tr>\n",
       "    <tr>\n",
       "      <th>33939</th>\n",
       "      <td>NISSAN_Almera</td>\n",
       "      <td>Diésel</td>\n",
       "      <td>2001</td>\n",
       "      <td>130</td>\n",
       "      <td>Valencia</td>\n",
       "    </tr>\n",
       "    <tr>\n",
       "      <th>41707</th>\n",
       "      <td>SKODA_Fabia</td>\n",
       "      <td>Gasolina</td>\n",
       "      <td>2020</td>\n",
       "      <td>95</td>\n",
       "      <td>Barcelona</td>\n",
       "    </tr>\n",
       "  </tbody>\n",
       "</table>\n",
       "</div>"
      ],
      "text/plain": [
       "                marca_modelo      fuel  year  power   province\n",
       "38093  MERCEDES-BENZ_Clase C    Diésel  2014    170     Madrid\n",
       "36015     VOLKSWAGEN_Touareg    Diésel  2007    240  Barcelona\n",
       "40354             CITROEN_C1  Gasolina  2020     72   Valencia\n",
       "33939          NISSAN_Almera    Diésel  2001    130   Valencia\n",
       "41707            SKODA_Fabia  Gasolina  2020     95  Barcelona"
      ]
     },
     "execution_count": 38,
     "metadata": {},
     "output_type": "execute_result"
    }
   ],
   "source": [
    "X_train = X_train.drop(columns=['make', 'model'])\n",
    "X_train.head()"
   ]
  },
  {
   "cell_type": "code",
   "execution_count": 39,
   "metadata": {},
   "outputs": [
    {
     "data": {
      "text/html": [
       "<div>\n",
       "<style scoped>\n",
       "    .dataframe tbody tr th:only-of-type {\n",
       "        vertical-align: middle;\n",
       "    }\n",
       "\n",
       "    .dataframe tbody tr th {\n",
       "        vertical-align: top;\n",
       "    }\n",
       "\n",
       "    .dataframe thead th {\n",
       "        text-align: right;\n",
       "    }\n",
       "</style>\n",
       "<table border=\"1\" class=\"dataframe\">\n",
       "  <thead>\n",
       "    <tr style=\"text-align: right;\">\n",
       "      <th></th>\n",
       "      <th>make</th>\n",
       "      <th>model</th>\n",
       "      <th>marca_modelo</th>\n",
       "      <th>fuel</th>\n",
       "      <th>year</th>\n",
       "      <th>power</th>\n",
       "      <th>province</th>\n",
       "    </tr>\n",
       "  </thead>\n",
       "  <tbody>\n",
       "    <tr>\n",
       "      <th>33553</th>\n",
       "      <td>MERCEDES-BENZ</td>\n",
       "      <td>Clase C</td>\n",
       "      <td>MERCEDES-BENZ_Clase C</td>\n",
       "      <td>Diésel</td>\n",
       "      <td>2007</td>\n",
       "      <td>130</td>\n",
       "      <td>Murcia</td>\n",
       "    </tr>\n",
       "    <tr>\n",
       "      <th>9428</th>\n",
       "      <td>VOLKSWAGEN</td>\n",
       "      <td>Passat</td>\n",
       "      <td>VOLKSWAGEN_Passat</td>\n",
       "      <td>Diésel</td>\n",
       "      <td>2013</td>\n",
       "      <td>140</td>\n",
       "      <td>Valencia</td>\n",
       "    </tr>\n",
       "    <tr>\n",
       "      <th>199</th>\n",
       "      <td>BMW</td>\n",
       "      <td>X6</td>\n",
       "      <td>BMW_X6</td>\n",
       "      <td>Diésel</td>\n",
       "      <td>2018</td>\n",
       "      <td>258</td>\n",
       "      <td>Madrid</td>\n",
       "    </tr>\n",
       "    <tr>\n",
       "      <th>12448</th>\n",
       "      <td>BMW</td>\n",
       "      <td>X4</td>\n",
       "      <td>BMW_X4</td>\n",
       "      <td>Diésel</td>\n",
       "      <td>2015</td>\n",
       "      <td>190</td>\n",
       "      <td>Barcelona</td>\n",
       "    </tr>\n",
       "    <tr>\n",
       "      <th>39488</th>\n",
       "      <td>PEUGEOT</td>\n",
       "      <td>406</td>\n",
       "      <td>PEUGEOT_406</td>\n",
       "      <td>Diésel</td>\n",
       "      <td>2000</td>\n",
       "      <td>130</td>\n",
       "      <td>Tarragona</td>\n",
       "    </tr>\n",
       "  </tbody>\n",
       "</table>\n",
       "</div>"
      ],
      "text/plain": [
       "                make    model           marca_modelo    fuel  year  power  \\\n",
       "33553  MERCEDES-BENZ  Clase C  MERCEDES-BENZ_Clase C  Diésel  2007    130   \n",
       "9428      VOLKSWAGEN   Passat      VOLKSWAGEN_Passat  Diésel  2013    140   \n",
       "199              BMW       X6                 BMW_X6  Diésel  2018    258   \n",
       "12448            BMW       X4                 BMW_X4  Diésel  2015    190   \n",
       "39488        PEUGEOT      406            PEUGEOT_406  Diésel  2000    130   \n",
       "\n",
       "        province  \n",
       "33553     Murcia  \n",
       "9428    Valencia  \n",
       "199       Madrid  \n",
       "12448  Barcelona  \n",
       "39488  Tarragona  "
      ]
     },
     "execution_count": 39,
     "metadata": {},
     "output_type": "execute_result"
    }
   ],
   "source": [
    "X_test.insert(2, 'marca_modelo', X_test[['make', 'model']].apply('_'.join, axis=1))\n",
    "X_test.head()"
   ]
  },
  {
   "cell_type": "code",
   "execution_count": 40,
   "metadata": {},
   "outputs": [
    {
     "data": {
      "text/html": [
       "<div>\n",
       "<style scoped>\n",
       "    .dataframe tbody tr th:only-of-type {\n",
       "        vertical-align: middle;\n",
       "    }\n",
       "\n",
       "    .dataframe tbody tr th {\n",
       "        vertical-align: top;\n",
       "    }\n",
       "\n",
       "    .dataframe thead th {\n",
       "        text-align: right;\n",
       "    }\n",
       "</style>\n",
       "<table border=\"1\" class=\"dataframe\">\n",
       "  <thead>\n",
       "    <tr style=\"text-align: right;\">\n",
       "      <th></th>\n",
       "      <th>marca_modelo</th>\n",
       "      <th>fuel</th>\n",
       "      <th>year</th>\n",
       "      <th>power</th>\n",
       "      <th>province</th>\n",
       "    </tr>\n",
       "  </thead>\n",
       "  <tbody>\n",
       "    <tr>\n",
       "      <th>33553</th>\n",
       "      <td>MERCEDES-BENZ_Clase C</td>\n",
       "      <td>Diésel</td>\n",
       "      <td>2007</td>\n",
       "      <td>130</td>\n",
       "      <td>Murcia</td>\n",
       "    </tr>\n",
       "    <tr>\n",
       "      <th>9428</th>\n",
       "      <td>VOLKSWAGEN_Passat</td>\n",
       "      <td>Diésel</td>\n",
       "      <td>2013</td>\n",
       "      <td>140</td>\n",
       "      <td>Valencia</td>\n",
       "    </tr>\n",
       "    <tr>\n",
       "      <th>199</th>\n",
       "      <td>BMW_X6</td>\n",
       "      <td>Diésel</td>\n",
       "      <td>2018</td>\n",
       "      <td>258</td>\n",
       "      <td>Madrid</td>\n",
       "    </tr>\n",
       "    <tr>\n",
       "      <th>12448</th>\n",
       "      <td>BMW_X4</td>\n",
       "      <td>Diésel</td>\n",
       "      <td>2015</td>\n",
       "      <td>190</td>\n",
       "      <td>Barcelona</td>\n",
       "    </tr>\n",
       "    <tr>\n",
       "      <th>39488</th>\n",
       "      <td>PEUGEOT_406</td>\n",
       "      <td>Diésel</td>\n",
       "      <td>2000</td>\n",
       "      <td>130</td>\n",
       "      <td>Tarragona</td>\n",
       "    </tr>\n",
       "  </tbody>\n",
       "</table>\n",
       "</div>"
      ],
      "text/plain": [
       "                marca_modelo    fuel  year  power   province\n",
       "33553  MERCEDES-BENZ_Clase C  Diésel  2007    130     Murcia\n",
       "9428       VOLKSWAGEN_Passat  Diésel  2013    140   Valencia\n",
       "199                   BMW_X6  Diésel  2018    258     Madrid\n",
       "12448                 BMW_X4  Diésel  2015    190  Barcelona\n",
       "39488            PEUGEOT_406  Diésel  2000    130  Tarragona"
      ]
     },
     "execution_count": 40,
     "metadata": {},
     "output_type": "execute_result"
    }
   ],
   "source": [
    "X_test = X_test.drop(columns=['make', 'model'])\n",
    "X_test.head()"
   ]
  },
  {
   "cell_type": "markdown",
   "metadata": {},
   "source": [
    "### Problema de Machine Learning"
   ]
  },
  {
   "cell_type": "markdown",
   "metadata": {},
   "source": [
    "Como hemos comentado desde el inicio lo que pretendemos con este proyecto es crear un modelo que nos prediga el precio de venta de un vehículo de segunda mano en función de sus características.\n",
    "\n",
    "Por lo tanto, nos encontramos con un problema de Regresión de tipo Supervisado.\n",
    "\n",
    "Estas son las features con las que vamos a trabajar:\n",
    " + Marca\n",
    " + Modelo\n",
    " + Combustible\n",
    " + Antigüedad del vehículo\n",
    " + Potencia\n",
    " + Provincia"
   ]
  },
  {
   "cell_type": "markdown",
   "metadata": {},
   "source": [
    "### Transformación de Variables Categóricas en Numéricas"
   ]
  },
  {
   "cell_type": "code",
   "execution_count": 41,
   "metadata": {},
   "outputs": [],
   "source": [
    "cbe_encoder = ce.cat_boost.CatBoostEncoder()\n",
    "cbe_encoder.fit(X_train, y_train)\n",
    "X_train = cbe_encoder.transform(X_train)"
   ]
  },
  {
   "cell_type": "code",
   "execution_count": 42,
   "metadata": {},
   "outputs": [
    {
     "data": {
      "text/html": [
       "<div>\n",
       "<style scoped>\n",
       "    .dataframe tbody tr th:only-of-type {\n",
       "        vertical-align: middle;\n",
       "    }\n",
       "\n",
       "    .dataframe tbody tr th {\n",
       "        vertical-align: top;\n",
       "    }\n",
       "\n",
       "    .dataframe thead th {\n",
       "        text-align: right;\n",
       "    }\n",
       "</style>\n",
       "<table border=\"1\" class=\"dataframe\">\n",
       "  <thead>\n",
       "    <tr style=\"text-align: right;\">\n",
       "      <th></th>\n",
       "      <th>marca_modelo</th>\n",
       "      <th>fuel</th>\n",
       "      <th>year</th>\n",
       "      <th>power</th>\n",
       "      <th>province</th>\n",
       "    </tr>\n",
       "  </thead>\n",
       "  <tbody>\n",
       "    <tr>\n",
       "      <th>38093</th>\n",
       "      <td>20243.667855</td>\n",
       "      <td>13810.739968</td>\n",
       "      <td>2014</td>\n",
       "      <td>170</td>\n",
       "      <td>16705.106101</td>\n",
       "    </tr>\n",
       "    <tr>\n",
       "      <th>36015</th>\n",
       "      <td>17545.313737</td>\n",
       "      <td>13810.739968</td>\n",
       "      <td>2007</td>\n",
       "      <td>240</td>\n",
       "      <td>17253.667987</td>\n",
       "    </tr>\n",
       "    <tr>\n",
       "      <th>40354</th>\n",
       "      <td>8654.766391</td>\n",
       "      <td>15954.017324</td>\n",
       "      <td>2020</td>\n",
       "      <td>72</td>\n",
       "      <td>16197.500210</td>\n",
       "    </tr>\n",
       "    <tr>\n",
       "      <th>33939</th>\n",
       "      <td>1660.725509</td>\n",
       "      <td>13810.739968</td>\n",
       "      <td>2001</td>\n",
       "      <td>130</td>\n",
       "      <td>16197.500210</td>\n",
       "    </tr>\n",
       "    <tr>\n",
       "      <th>41707</th>\n",
       "      <td>7669.266174</td>\n",
       "      <td>15954.017324</td>\n",
       "      <td>2020</td>\n",
       "      <td>95</td>\n",
       "      <td>17253.667987</td>\n",
       "    </tr>\n",
       "    <tr>\n",
       "      <th>...</th>\n",
       "      <td>...</td>\n",
       "      <td>...</td>\n",
       "      <td>...</td>\n",
       "      <td>...</td>\n",
       "      <td>...</td>\n",
       "    </tr>\n",
       "    <tr>\n",
       "      <th>11285</th>\n",
       "      <td>12786.409028</td>\n",
       "      <td>13810.739968</td>\n",
       "      <td>2016</td>\n",
       "      <td>116</td>\n",
       "      <td>14288.024074</td>\n",
       "    </tr>\n",
       "    <tr>\n",
       "      <th>44733</th>\n",
       "      <td>14828.577660</td>\n",
       "      <td>13810.739968</td>\n",
       "      <td>2014</td>\n",
       "      <td>190</td>\n",
       "      <td>15687.217992</td>\n",
       "    </tr>\n",
       "    <tr>\n",
       "      <th>38159</th>\n",
       "      <td>11902.876627</td>\n",
       "      <td>13810.739968</td>\n",
       "      <td>2011</td>\n",
       "      <td>130</td>\n",
       "      <td>14378.235506</td>\n",
       "    </tr>\n",
       "    <tr>\n",
       "      <th>860</th>\n",
       "      <td>3292.612243</td>\n",
       "      <td>13810.739968</td>\n",
       "      <td>2005</td>\n",
       "      <td>80</td>\n",
       "      <td>16705.106101</td>\n",
       "    </tr>\n",
       "    <tr>\n",
       "      <th>15796</th>\n",
       "      <td>3793.662209</td>\n",
       "      <td>13810.739968</td>\n",
       "      <td>1999</td>\n",
       "      <td>130</td>\n",
       "      <td>12065.572188</td>\n",
       "    </tr>\n",
       "  </tbody>\n",
       "</table>\n",
       "<p>34998 rows × 5 columns</p>\n",
       "</div>"
      ],
      "text/plain": [
       "       marca_modelo          fuel  year  power      province\n",
       "38093  20243.667855  13810.739968  2014    170  16705.106101\n",
       "36015  17545.313737  13810.739968  2007    240  17253.667987\n",
       "40354   8654.766391  15954.017324  2020     72  16197.500210\n",
       "33939   1660.725509  13810.739968  2001    130  16197.500210\n",
       "41707   7669.266174  15954.017324  2020     95  17253.667987\n",
       "...             ...           ...   ...    ...           ...\n",
       "11285  12786.409028  13810.739968  2016    116  14288.024074\n",
       "44733  14828.577660  13810.739968  2014    190  15687.217992\n",
       "38159  11902.876627  13810.739968  2011    130  14378.235506\n",
       "860     3292.612243  13810.739968  2005     80  16705.106101\n",
       "15796   3793.662209  13810.739968  1999    130  12065.572188\n",
       "\n",
       "[34998 rows x 5 columns]"
      ]
     },
     "execution_count": 42,
     "metadata": {},
     "output_type": "execute_result"
    }
   ],
   "source": [
    "X_train"
   ]
  },
  {
   "cell_type": "code",
   "execution_count": 43,
   "metadata": {},
   "outputs": [],
   "source": [
    "X_test = cbe_encoder.transform(X_test)"
   ]
  },
  {
   "cell_type": "code",
   "execution_count": 44,
   "metadata": {},
   "outputs": [
    {
     "data": {
      "text/html": [
       "<div>\n",
       "<style scoped>\n",
       "    .dataframe tbody tr th:only-of-type {\n",
       "        vertical-align: middle;\n",
       "    }\n",
       "\n",
       "    .dataframe tbody tr th {\n",
       "        vertical-align: top;\n",
       "    }\n",
       "\n",
       "    .dataframe thead th {\n",
       "        text-align: right;\n",
       "    }\n",
       "</style>\n",
       "<table border=\"1\" class=\"dataframe\">\n",
       "  <thead>\n",
       "    <tr style=\"text-align: right;\">\n",
       "      <th></th>\n",
       "      <th>marca_modelo</th>\n",
       "      <th>fuel</th>\n",
       "      <th>year</th>\n",
       "      <th>power</th>\n",
       "      <th>province</th>\n",
       "    </tr>\n",
       "  </thead>\n",
       "  <tbody>\n",
       "    <tr>\n",
       "      <th>33553</th>\n",
       "      <td>20243.667855</td>\n",
       "      <td>13810.739968</td>\n",
       "      <td>2007</td>\n",
       "      <td>130</td>\n",
       "      <td>13244.862090</td>\n",
       "    </tr>\n",
       "    <tr>\n",
       "      <th>9428</th>\n",
       "      <td>11471.638041</td>\n",
       "      <td>13810.739968</td>\n",
       "      <td>2013</td>\n",
       "      <td>140</td>\n",
       "      <td>16197.500210</td>\n",
       "    </tr>\n",
       "    <tr>\n",
       "      <th>199</th>\n",
       "      <td>38223.703955</td>\n",
       "      <td>13810.739968</td>\n",
       "      <td>2018</td>\n",
       "      <td>258</td>\n",
       "      <td>16705.106101</td>\n",
       "    </tr>\n",
       "    <tr>\n",
       "      <th>12448</th>\n",
       "      <td>35904.276213</td>\n",
       "      <td>13810.739968</td>\n",
       "      <td>2015</td>\n",
       "      <td>190</td>\n",
       "      <td>17253.667987</td>\n",
       "    </tr>\n",
       "    <tr>\n",
       "      <th>39488</th>\n",
       "      <td>1903.611677</td>\n",
       "      <td>13810.739968</td>\n",
       "      <td>2000</td>\n",
       "      <td>130</td>\n",
       "      <td>14242.418522</td>\n",
       "    </tr>\n",
       "    <tr>\n",
       "      <th>...</th>\n",
       "      <td>...</td>\n",
       "      <td>...</td>\n",
       "      <td>...</td>\n",
       "      <td>...</td>\n",
       "      <td>...</td>\n",
       "    </tr>\n",
       "    <tr>\n",
       "      <th>15169</th>\n",
       "      <td>11360.163768</td>\n",
       "      <td>13810.739968</td>\n",
       "      <td>2002</td>\n",
       "      <td>130</td>\n",
       "      <td>12368.011295</td>\n",
       "    </tr>\n",
       "    <tr>\n",
       "      <th>34875</th>\n",
       "      <td>7548.742593</td>\n",
       "      <td>13810.739968</td>\n",
       "      <td>2010</td>\n",
       "      <td>127</td>\n",
       "      <td>16705.106101</td>\n",
       "    </tr>\n",
       "    <tr>\n",
       "      <th>39316</th>\n",
       "      <td>13102.144728</td>\n",
       "      <td>13810.739968</td>\n",
       "      <td>2005</td>\n",
       "      <td>140</td>\n",
       "      <td>16186.446064</td>\n",
       "    </tr>\n",
       "    <tr>\n",
       "      <th>42190</th>\n",
       "      <td>21203.250196</td>\n",
       "      <td>15954.017324</td>\n",
       "      <td>2018</td>\n",
       "      <td>115</td>\n",
       "      <td>14378.235506</td>\n",
       "    </tr>\n",
       "    <tr>\n",
       "      <th>15110</th>\n",
       "      <td>9708.843909</td>\n",
       "      <td>13810.739968</td>\n",
       "      <td>2008</td>\n",
       "      <td>138</td>\n",
       "      <td>17253.667987</td>\n",
       "    </tr>\n",
       "  </tbody>\n",
       "</table>\n",
       "<p>15000 rows × 5 columns</p>\n",
       "</div>"
      ],
      "text/plain": [
       "       marca_modelo          fuel  year  power      province\n",
       "33553  20243.667855  13810.739968  2007    130  13244.862090\n",
       "9428   11471.638041  13810.739968  2013    140  16197.500210\n",
       "199    38223.703955  13810.739968  2018    258  16705.106101\n",
       "12448  35904.276213  13810.739968  2015    190  17253.667987\n",
       "39488   1903.611677  13810.739968  2000    130  14242.418522\n",
       "...             ...           ...   ...    ...           ...\n",
       "15169  11360.163768  13810.739968  2002    130  12368.011295\n",
       "34875   7548.742593  13810.739968  2010    127  16705.106101\n",
       "39316  13102.144728  13810.739968  2005    140  16186.446064\n",
       "42190  21203.250196  15954.017324  2018    115  14378.235506\n",
       "15110   9708.843909  13810.739968  2008    138  17253.667987\n",
       "\n",
       "[15000 rows x 5 columns]"
      ]
     },
     "execution_count": 44,
     "metadata": {},
     "output_type": "execute_result"
    }
   ],
   "source": [
    "X_test"
   ]
  },
  {
   "cell_type": "markdown",
   "metadata": {},
   "source": [
    "### Estandarización de features numéricas"
   ]
  },
  {
   "cell_type": "code",
   "execution_count": 45,
   "metadata": {},
   "outputs": [],
   "source": [
    "escaler = StandardScaler()\n",
    "escaler.fit(X_train)\n",
    "X_train_scal = escaler.transform(X_train)"
   ]
  },
  {
   "cell_type": "code",
   "execution_count": 54,
   "metadata": {},
   "outputs": [],
   "source": [
    "X_test_scal = escaler.transform(X_test)"
   ]
  },
  {
   "cell_type": "code",
   "execution_count": 46,
   "metadata": {},
   "outputs": [],
   "source": [
    "minmax = MinMaxScaler()\n",
    "minmax.fit(X_train)\n",
    "X_minmax = minmax.transform(X_train)"
   ]
  },
  {
   "cell_type": "markdown",
   "metadata": {},
   "source": [
    "Comprobamos que las distribuciones no cambian independientemente de que se aplique estandarización"
   ]
  },
  {
   "cell_type": "code",
   "execution_count": 47,
   "metadata": {},
   "outputs": [
    {
     "data": {
      "image/png": "[encoded data removed]",
      "text/plain": [
       "<Figure size 1080x360 with 3 Axes>"
      ]
     },
     "metadata": {
      "needs_background": "light"
     },
     "output_type": "display_data"
    }
   ],
   "source": [
    "fig, axes = plt.subplots(1, 3, figsize=(15, 5))\n",
    "\n",
    "# Original target\n",
    "sns.scatterplot(x= X_train.iloc[:,0], y= X_train.iloc[:,3], ax=axes[0])\n",
    "axes[0].set_title(\"Original target\")\n",
    "# MinMaxScaler\n",
    "sns.scatterplot(x= X_minmax[:,0], y= X_minmax[:,3], ax=axes[1])\n",
    "axes[1].set_title(\"MinMaxScaler\")\n",
    "\n",
    "# StandardScaler\n",
    "sns.scatterplot(x= X_train_scal[:,0], y= X_train_scal[:,3], ax=axes[2])\n",
    "axes[2].set_title(\"StandardScaler\");"
   ]
  },
  {
   "cell_type": "markdown",
   "metadata": {},
   "source": [
    "### Elección de Modelos"
   ]
  },
  {
   "cell_type": "code",
   "execution_count": 75,
   "metadata": {},
   "outputs": [],
   "source": [
    "from sklearn.metrics import mean_absolute_percentage_error\n",
    "from sklearn.metrics import mean_absolute_error\n",
    "from sklearn.metrics import mean_squared_error\n",
    "from sklearn.metrics import accuracy_score\n",
    "from sklearn.metrics import r2_score"
   ]
  },
  {
   "cell_type": "markdown",
   "metadata": {},
   "source": [
    "#### Linear Regression"
   ]
  },
  {
   "cell_type": "code",
   "execution_count": 154,
   "metadata": {},
   "outputs": [
    {
     "data": {
      "text/plain": [
       "LinearRegression()"
      ]
     },
     "execution_count": 154,
     "metadata": {},
     "output_type": "execute_result"
    }
   ],
   "source": [
    "lr = LinearRegression()\n",
    "lr.fit(X_train_scal, y_train)"
   ]
  },
  {
   "cell_type": "code",
   "execution_count": 156,
   "metadata": {},
   "outputs": [],
   "source": [
    "with open(\"lr_model.model\", \"wb\") as archivo_salida:\n",
    "    pickle.dump(lr, archivo_salida)"
   ]
  },
  {
   "cell_type": "code",
   "execution_count": 155,
   "metadata": {},
   "outputs": [
    {
     "name": "stdout",
     "output_type": "stream",
     "text": [
      "intercept: 15144.02037259272\n",
      "coef: [6715.73828439  317.38483225 5635.18388007 6427.95271213  119.83736507]\n"
     ]
    }
   ],
   "source": [
    "print('intercept:', lr.intercept_)\n",
    "print('coef:', lr.coef_)"
   ]
  },
  {
   "cell_type": "code",
   "execution_count": 56,
   "metadata": {},
   "outputs": [
    {
     "data": {
      "text/html": [
       "<div>\n",
       "<style scoped>\n",
       "    .dataframe tbody tr th:only-of-type {\n",
       "        vertical-align: middle;\n",
       "    }\n",
       "\n",
       "    .dataframe tbody tr th {\n",
       "        vertical-align: top;\n",
       "    }\n",
       "\n",
       "    .dataframe thead th {\n",
       "        text-align: right;\n",
       "    }\n",
       "</style>\n",
       "<table border=\"1\" class=\"dataframe\">\n",
       "  <thead>\n",
       "    <tr style=\"text-align: right;\">\n",
       "      <th></th>\n",
       "      <th>predicciones</th>\n",
       "      <th>y_test</th>\n",
       "      <th>residuos</th>\n",
       "    </tr>\n",
       "  </thead>\n",
       "  <tbody>\n",
       "    <tr>\n",
       "      <th>33553</th>\n",
       "      <td>12116.004443</td>\n",
       "      <td>10000</td>\n",
       "      <td>-2116.004443</td>\n",
       "    </tr>\n",
       "    <tr>\n",
       "      <th>9428</th>\n",
       "      <td>13186.687401</td>\n",
       "      <td>10490</td>\n",
       "      <td>-2696.687401</td>\n",
       "    </tr>\n",
       "    <tr>\n",
       "      <th>199</th>\n",
       "      <td>44984.828762</td>\n",
       "      <td>55490</td>\n",
       "      <td>10505.171238</td>\n",
       "    </tr>\n",
       "    <tr>\n",
       "      <th>12448</th>\n",
       "      <td>34377.618210</td>\n",
       "      <td>27900</td>\n",
       "      <td>-6477.618210</td>\n",
       "    </tr>\n",
       "    <tr>\n",
       "      <th>39488</th>\n",
       "      <td>-4611.699920</td>\n",
       "      <td>1500</td>\n",
       "      <td>6111.699920</td>\n",
       "    </tr>\n",
       "    <tr>\n",
       "      <th>...</th>\n",
       "      <td>...</td>\n",
       "      <td>...</td>\n",
       "      <td>...</td>\n",
       "    </tr>\n",
       "    <tr>\n",
       "      <th>15169</th>\n",
       "      <td>2559.232052</td>\n",
       "      <td>1099</td>\n",
       "      <td>-1460.232052</td>\n",
       "    </tr>\n",
       "    <tr>\n",
       "      <th>34875</th>\n",
       "      <td>7069.573284</td>\n",
       "      <td>7500</td>\n",
       "      <td>430.426716</td>\n",
       "    </tr>\n",
       "    <tr>\n",
       "      <th>39316</th>\n",
       "      <td>7378.403238</td>\n",
       "      <td>5599</td>\n",
       "      <td>-1779.403238</td>\n",
       "    </tr>\n",
       "    <tr>\n",
       "      <th>42190</th>\n",
       "      <td>20801.653404</td>\n",
       "      <td>18200</td>\n",
       "      <td>-2601.653404</td>\n",
       "    </tr>\n",
       "    <tr>\n",
       "      <th>15110</th>\n",
       "      <td>7781.705454</td>\n",
       "      <td>5400</td>\n",
       "      <td>-2381.705454</td>\n",
       "    </tr>\n",
       "  </tbody>\n",
       "</table>\n",
       "<p>15000 rows × 3 columns</p>\n",
       "</div>"
      ],
      "text/plain": [
       "       predicciones  y_test      residuos\n",
       "33553  12116.004443   10000  -2116.004443\n",
       "9428   13186.687401   10490  -2696.687401\n",
       "199    44984.828762   55490  10505.171238\n",
       "12448  34377.618210   27900  -6477.618210\n",
       "39488  -4611.699920    1500   6111.699920\n",
       "...             ...     ...           ...\n",
       "15169   2559.232052    1099  -1460.232052\n",
       "34875   7069.573284    7500    430.426716\n",
       "39316   7378.403238    5599  -1779.403238\n",
       "42190  20801.653404   18200  -2601.653404\n",
       "15110   7781.705454    5400  -2381.705454\n",
       "\n",
       "[15000 rows x 3 columns]"
      ]
     },
     "execution_count": 56,
     "metadata": {},
     "output_type": "execute_result"
    }
   ],
   "source": [
    "new_df = pd.DataFrame({'predicciones': lr.predict(X_test_scal).tolist(), 'y_test': y_test})\n",
    "new_df['residuos'] = new_df['y_test'] - new_df['predicciones']\n",
    "new_df"
   ]
  },
  {
   "cell_type": "code",
   "execution_count": 152,
   "metadata": {},
   "outputs": [
    {
     "name": "stdout",
     "output_type": "stream",
     "text": [
      "Score Train: 0.7546130930079983\n",
      "Score Test: 0.708498976363328\n"
     ]
    }
   ],
   "source": [
    "print('Score Train:', lr.score(X_train_scal, y_train))\n",
    "print('Score Test:', lr.score(X_test_scal, y_test))"
   ]
  },
  {
   "cell_type": "code",
   "execution_count": 80,
   "metadata": {},
   "outputs": [],
   "source": [
    "lr_MAE = mean_absolute_error(y_test, lr.predict(X_test_scal))\n",
    "lr_MSE = mean_squared_error(y_test, lr.predict(X_test_scal))\n",
    "lr_RMSE = np.sqrt(mean_squared_error(y_test, lr.predict(X_test_scal)))\n",
    "lr_MAPE = mean_absolute_percentage_error(y_test, lr.predict(X_test_scal))\n",
    "lr_r2 = r2_score(y_test,lr.predict(X_test_scal))"
   ]
  },
  {
   "cell_type": "code",
   "execution_count": 81,
   "metadata": {},
   "outputs": [
    {
     "name": "stdout",
     "output_type": "stream",
     "text": [
      "MAE: 4327.702589298154\n",
      "MSE: 84326580.2668581\n",
      "RMSE: 9182.950520767174\n",
      "MAPE: 0.6795023046590061\n",
      "r2: 0.708498976363328\n"
     ]
    }
   ],
   "source": [
    "print(\"MAE:\", lr_MAE)\n",
    "print(\"MSE:\", lr_MSE)\n",
    "print(\"RMSE:\", lr_RMSE)\n",
    "print(\"MAPE:\", lr_MAPE )\n",
    "print('r2:', lr_r2 )"
   ]
  },
  {
   "cell_type": "markdown",
   "metadata": {},
   "source": [
    "#### Decision Tree Regressor"
   ]
  },
  {
   "cell_type": "code",
   "execution_count": 64,
   "metadata": {},
   "outputs": [
    {
     "data": {
      "text/plain": [
       "GridSearchCV(cv=10, estimator=DecisionTreeRegressor(),\n",
       "             param_grid={'max_depth': [2, 7, 14, 25, 36, 47],\n",
       "                         'min_samples_leaf': array([ 1,  2,  3,  4,  5,  6,  7,  8,  9, 10, 11, 12, 13, 14, 15, 16, 17,\n",
       "       18, 19]),\n",
       "                         'random_state': [42]},\n",
       "             scoring='neg_mean_absolute_percentage_error')"
      ]
     },
     "execution_count": 64,
     "metadata": {},
     "output_type": "execute_result"
    }
   ],
   "source": [
    "tree = DecisionTreeRegressor()\n",
    "tree.fit(X_train_scal, y_train)\n",
    "\n",
    "parameters = {'max_depth':[2,7,14,25,36,47], 'min_samples_leaf': np.arange(1,20), 'random_state': [42]}\n",
    "\n",
    "grid_tree = GridSearchCV(tree, parameters, scoring='neg_mean_absolute_percentage_error', cv=10)\n",
    "\n",
    "grid_tree.fit(X_train_scal, y_train)"
   ]
  },
  {
   "cell_type": "code",
   "execution_count": 157,
   "metadata": {},
   "outputs": [],
   "source": [
    "with open(\"decisiontree_model.model\", \"wb\") as archivo_salida:\n",
    "    pickle.dump(grid_tree, archivo_salida)"
   ]
  },
  {
   "cell_type": "code",
   "execution_count": 130,
   "metadata": {},
   "outputs": [
    {
     "name": "stdout",
     "output_type": "stream",
     "text": [
      "Best estimator: DecisionTreeRegressor(max_depth=25, min_samples_leaf=10, random_state=42)\n",
      "Best params: {'max_depth': 25, 'min_samples_leaf': 10, 'random_state': 42}\n",
      "Best score: -0.26143924163958226\n"
     ]
    }
   ],
   "source": [
    "print(\"Best estimator:\", grid_tree.best_estimator_)\n",
    "print(\"Best params:\", grid_tree.best_params_)\n",
    "print(\"Best score:\", grid_tree.best_score_)"
   ]
  },
  {
   "cell_type": "code",
   "execution_count": 134,
   "metadata": {},
   "outputs": [
    {
     "name": "stdout",
     "output_type": "stream",
     "text": [
      "Score Train: -0.21572552622256874\n",
      "Score Test: -0.25401987321171193\n"
     ]
    }
   ],
   "source": [
    "print('Score Train:', grid_tree.score(X_train_scal, y_train))\n",
    "print('Score Test:', grid_tree.score(X_test_scal, y_test))"
   ]
  },
  {
   "cell_type": "code",
   "execution_count": 137,
   "metadata": {},
   "outputs": [
    {
     "name": "stdout",
     "output_type": "stream",
     "text": [
      "[ 8542.35294118 11740.         51129.875      ...  4618.9\n",
      " 17327.27272727  6173.9       ]\n"
     ]
    }
   ],
   "source": [
    "pred_grid_tree= grid_tree.predict(X_test_scal)\n",
    "print(pred_grid_tree)"
   ]
  },
  {
   "cell_type": "code",
   "execution_count": 138,
   "metadata": {},
   "outputs": [],
   "source": [
    "tree_MAE = mean_absolute_error(y_test, grid_tree.predict(X_test_scal))\n",
    "tree_MSE = mean_squared_error(y_test, grid_tree.predict(X_test_scal))\n",
    "tree_RMSE = np.sqrt(mean_squared_error(y_test, grid_tree.predict(X_test_scal)))\n",
    "tree_MAPE = mean_absolute_percentage_error(y_test, grid_tree.predict(X_test_scal))\n",
    "tree_r2 = r2_score(y_test,grid_tree.predict(X_test_scal))"
   ]
  },
  {
   "cell_type": "code",
   "execution_count": 139,
   "metadata": {},
   "outputs": [
    {
     "name": "stdout",
     "output_type": "stream",
     "text": [
      "MAE: 2515.868653422416\n",
      "MSE: 40279006.12458075\n",
      "RMSE: 6346.574361384317\n",
      "MAPE: 0.25401987321171193\n",
      "r2: 0.8607631012757001\n"
     ]
    }
   ],
   "source": [
    "print(\"MAE:\", tree_MAE)\n",
    "print(\"MSE:\", tree_MSE)\n",
    "print(\"RMSE:\", tree_RMSE)\n",
    "print(\"MAPE:\", tree_MAPE )\n",
    "print('r2:', tree_r2 )"
   ]
  },
  {
   "cell_type": "markdown",
   "metadata": {},
   "source": [
    "#### Random Forest Regressor"
   ]
  },
  {
   "cell_type": "code",
   "execution_count": 73,
   "metadata": {},
   "outputs": [
    {
     "data": {
      "text/plain": [
       "GridSearchCV(cv=10, estimator=RandomForestRegressor(),\n",
       "             param_grid={'max_depth': [3, 4, 5, 6, 10, 17, 20],\n",
       "                         'max_features': ['sqrt', 3, 4], 'n_estimators': [200],\n",
       "                         'random_state': [42]},\n",
       "             scoring='neg_mean_absolute_percentage_error')"
      ]
     },
     "execution_count": 73,
     "metadata": {},
     "output_type": "execute_result"
    }
   ],
   "source": [
    "rf = RandomForestRegressor()\n",
    "rf.fit(X_train_scal, y_train)\n",
    "\n",
    "parameters_rf = {'n_estimators': [200],'max_depth':[3,4,5,6,10,17,20], 'max_features': ['sqrt', 3,4], 'random_state': [42]}\n",
    "\n",
    "grid_rf = GridSearchCV(rf, parameters_rf, scoring='neg_mean_absolute_percentage_error', cv=10)\n",
    "\n",
    "grid_rf.fit(X_train_scal, y_train)"
   ]
  },
  {
   "cell_type": "code",
   "execution_count": 158,
   "metadata": {},
   "outputs": [],
   "source": [
    "with open(\"rf_model.model\", \"wb\") as archivo_salida:\n",
    "    pickle.dump(grid_rf, archivo_salida)"
   ]
  },
  {
   "cell_type": "code",
   "execution_count": 140,
   "metadata": {},
   "outputs": [
    {
     "name": "stdout",
     "output_type": "stream",
     "text": [
      "Best estimator: RandomForestRegressor(max_depth=17, max_features=3, n_estimators=200,\n",
      "                      random_state=42)\n",
      "Best params: {'max_depth': 17, 'max_features': 3, 'n_estimators': 200, 'random_state': 42}\n",
      "Best score: -0.24248063722265698\n"
     ]
    }
   ],
   "source": [
    "print(\"Best estimator:\", grid_rf.best_estimator_)\n",
    "print(\"Best params:\", grid_rf.best_params_)\n",
    "print(\"Best score:\", grid_rf.best_score_)"
   ]
  },
  {
   "cell_type": "code",
   "execution_count": 141,
   "metadata": {},
   "outputs": [
    {
     "name": "stdout",
     "output_type": "stream",
     "text": [
      "Score Train: -0.15738152403458797\n",
      "Score Test: -0.23727648143514793\n"
     ]
    }
   ],
   "source": [
    "print('Score Train:', grid_rf.score(X_train_scal, y_train))\n",
    "print('Score Test:', grid_rf.score(X_test_scal, y_test))"
   ]
  },
  {
   "cell_type": "code",
   "execution_count": 142,
   "metadata": {},
   "outputs": [
    {
     "name": "stdout",
     "output_type": "stream",
     "text": [
      "[ 8079.31748919 11125.19153755 53102.95596068 ...  4699.47172994\n",
      " 17252.00039724  5208.14899719]\n"
     ]
    }
   ],
   "source": [
    "pred_grid_rf= grid_rf.predict(X_test_scal)\n",
    "print(pred_grid_rf)"
   ]
  },
  {
   "cell_type": "code",
   "execution_count": 143,
   "metadata": {},
   "outputs": [],
   "source": [
    "rf_MAE = mean_absolute_error(y_test, grid_rf.predict(X_test_scal))\n",
    "rf_MSE = mean_squared_error(y_test, grid_rf.predict(X_test_scal))\n",
    "rf_RMSE = np.sqrt(mean_squared_error(y_test, grid_rf.predict(X_test_scal)))\n",
    "rf_MAPE = mean_absolute_percentage_error(y_test, grid_rf.predict(X_test_scal))\n",
    "rf_r2 = r2_score(y_test,grid_rf.predict(X_test_scal))"
   ]
  },
  {
   "cell_type": "code",
   "execution_count": 144,
   "metadata": {},
   "outputs": [
    {
     "name": "stdout",
     "output_type": "stream",
     "text": [
      "MAE: 2180.341560017913\n",
      "MSE: 25383867.132447224\n",
      "RMSE: 5038.240479815074\n",
      "MAPE: 0.23727648143514793\n",
      "r2: 0.9122527768877905\n"
     ]
    }
   ],
   "source": [
    "print(\"MAE:\", rf_MAE)\n",
    "print(\"MSE:\", rf_MSE)\n",
    "print(\"RMSE:\", rf_RMSE)\n",
    "print(\"MAPE:\", rf_MAPE )\n",
    "print('r2:', rf_r2 )"
   ]
  },
  {
   "cell_type": "markdown",
   "metadata": {},
   "source": [
    "#### XGBoost Regressor"
   ]
  },
  {
   "cell_type": "code",
   "execution_count": 123,
   "metadata": {},
   "outputs": [
    {
     "data": {
      "text/plain": [
       "GridSearchCV(cv=10,\n",
       "             estimator=XGBRegressor(base_score=0.5, booster='gbtree',\n",
       "                                    callbacks=None, colsample_bylevel=1,\n",
       "                                    colsample_bynode=1, colsample_bytree=1,\n",
       "                                    early_stopping_rounds=None,\n",
       "                                    enable_categorical=False, eval_metric=None,\n",
       "                                    gamma=0, gpu_id=-1, grow_policy='depthwise',\n",
       "                                    importance_type=None,\n",
       "                                    interaction_constraints='',\n",
       "                                    learning_rate=0.300000012, max_bin=256,\n",
       "                                    max_ca...nehot=4, max_delta_step=0,\n",
       "                                    max_depth=6, max_leaves=0,\n",
       "                                    min_child_weight=1, missing=nan,\n",
       "                                    monotone_constraints='()', n_estimators=100,\n",
       "                                    n_jobs=0, num_parallel_tree=1,\n",
       "                                    predictor='auto', random_state=0,\n",
       "                                    reg_alpha=0, reg_lambda=1, ...),\n",
       "             param_grid={'max_depth': [3, 4, 5, 6, 9],\n",
       "                         'n_estimators': [275, 300, 350, 400],\n",
       "                         'random_state': [42]},\n",
       "             scoring='neg_mean_absolute_percentage_error')"
      ]
     },
     "execution_count": 123,
     "metadata": {},
     "output_type": "execute_result"
    }
   ],
   "source": [
    "xgbr = XGBRegressor()\n",
    "xgbr.fit(X_train_scal, y_train)\n",
    "\n",
    "parameters_xgbr = {'n_estimators': [275,300,350,400],'max_depth':[3,4,5,6,9], 'random_state': [42]}\n",
    "\n",
    "grid_xgbr = GridSearchCV(xgbr, parameters_xgbr, scoring='neg_mean_absolute_percentage_error', cv=10)\n",
    "\n",
    "grid_xgbr.fit(X_train_scal, y_train)"
   ]
  },
  {
   "cell_type": "code",
   "execution_count": 159,
   "metadata": {},
   "outputs": [],
   "source": [
    "with open(\"xgbr_model.model\", \"wb\") as archivo_salida:\n",
    "    pickle.dump(grid_xgbr, archivo_salida)"
   ]
  },
  {
   "cell_type": "code",
   "execution_count": 124,
   "metadata": {},
   "outputs": [
    {
     "name": "stdout",
     "output_type": "stream",
     "text": [
      "Best estimator: XGBRegressor(base_score=0.5, booster='gbtree', callbacks=None,\n",
      "             colsample_bylevel=1, colsample_bynode=1, colsample_bytree=1,\n",
      "             early_stopping_rounds=None, enable_categorical=False,\n",
      "             eval_metric=None, gamma=0, gpu_id=-1, grow_policy='depthwise',\n",
      "             importance_type=None, interaction_constraints='',\n",
      "             learning_rate=0.300000012, max_bin=256, max_cat_to_onehot=4,\n",
      "             max_delta_step=0, max_depth=6, max_leaves=0, min_child_weight=1,\n",
      "             missing=nan, monotone_constraints='()', n_estimators=400, n_jobs=0,\n",
      "             num_parallel_tree=1, predictor='auto', random_state=42,\n",
      "             reg_alpha=0, reg_lambda=1, ...)\n",
      "Best params: {'max_depth': 6, 'n_estimators': 400, 'random_state': 42}\n",
      "Best score: -0.22922686178739332\n"
     ]
    }
   ],
   "source": [
    "print(\"Best estimator:\", grid_xgbr.best_estimator_)\n",
    "print(\"Best params:\", grid_xgbr.best_params_)\n",
    "print(\"Best score:\", grid_xgbr.best_score_)"
   ]
  },
  {
   "cell_type": "code",
   "execution_count": 145,
   "metadata": {},
   "outputs": [
    {
     "name": "stdout",
     "output_type": "stream",
     "text": [
      "Score Train: -0.1724359954741778\n",
      "Score Test: -0.22689993121137267\n"
     ]
    }
   ],
   "source": [
    "print('Score Train:', grid_xgbr.score(X_train_scal, y_train))\n",
    "print('Score Test:', grid_xgbr.score(X_test_scal, y_test))"
   ]
  },
  {
   "cell_type": "code",
   "execution_count": 151,
   "metadata": {},
   "outputs": [
    {
     "name": "stdout",
     "output_type": "stream",
     "text": [
      "[ 7394.0137 11216.951  52439.28   ...  5435.849  17366.004   5683.213 ]\n"
     ]
    }
   ],
   "source": [
    "pred_grid_xgbr= grid_xgbr.predict(X_test_scal)\n",
    "print(pred_grid_xgbr)"
   ]
  },
  {
   "cell_type": "code",
   "execution_count": 147,
   "metadata": {},
   "outputs": [],
   "source": [
    "xgbr_MAE = mean_absolute_error(y_test, grid_xgbr.predict(X_test_scal))\n",
    "xgbr_MSE = mean_squared_error(y_test, grid_xgbr.predict(X_test_scal))\n",
    "xgbr_RMSE = np.sqrt(mean_squared_error(y_test, grid_xgbr.predict(X_test_scal)))\n",
    "xgbr_MAPE = mean_absolute_percentage_error(y_test, grid_xgbr.predict(X_test_scal))\n",
    "xgbr_r2 = r2_score(y_test,grid_xgbr.predict(X_test_scal))"
   ]
  },
  {
   "cell_type": "code",
   "execution_count": 148,
   "metadata": {},
   "outputs": [
    {
     "name": "stdout",
     "output_type": "stream",
     "text": [
      "MAE: 2108.415743303935\n",
      "MSE: 24683806.85122777\n",
      "RMSE: 4968.280069725113\n",
      "MAPE: 0.22689993121137267\n",
      "r2: 0.9146727527475617\n"
     ]
    }
   ],
   "source": [
    "print(\"MAE:\", xgbr_MAE)\n",
    "print(\"MSE:\", xgbr_MSE)\n",
    "print(\"RMSE:\", xgbr_RMSE)\n",
    "print(\"MAPE:\", xgbr_MAPE )\n",
    "print('r2:', xgbr_r2 )"
   ]
  },
  {
   "cell_type": "markdown",
   "metadata": {},
   "source": [
    "#### KNeighbors Regressor"
   ]
  },
  {
   "cell_type": "code",
   "execution_count": 116,
   "metadata": {},
   "outputs": [
    {
     "data": {
      "text/plain": [
       "GridSearchCV(cv=10, estimator=KNeighborsRegressor(),\n",
       "             param_grid={'metric': ['euclidean', 'manhattan'],\n",
       "                         'n_neighbors': [3, 5, 7, 11, 19, 25],\n",
       "                         'weights': ['uniform', 'distance']},\n",
       "             scoring='neg_mean_absolute_percentage_error')"
      ]
     },
     "execution_count": 116,
     "metadata": {},
     "output_type": "execute_result"
    }
   ],
   "source": [
    "knn = KNeighborsRegressor()\n",
    "knn.fit(X_train_scal, y_train)\n",
    "\n",
    "parameters_knn = {\"n_neighbors\": [3,5,7,11,19,25],\"weights\": [\"uniform\", \"distance\"], \"metric\": [\"euclidean\", \"manhattan\"]}\n",
    "\n",
    "grid_knn = GridSearchCV(knn, parameters_knn, scoring = 'neg_mean_absolute_percentage_error', cv=10)\n",
    "\n",
    "grid_knn.fit(X_train_scal, y_train)"
   ]
  },
  {
   "cell_type": "code",
   "execution_count": 160,
   "metadata": {},
   "outputs": [],
   "source": [
    "with open(\"knn_model.model\", \"wb\") as archivo_salida:\n",
    "    pickle.dump(grid_knn, archivo_salida)"
   ]
  },
  {
   "cell_type": "code",
   "execution_count": 117,
   "metadata": {},
   "outputs": [
    {
     "name": "stdout",
     "output_type": "stream",
     "text": [
      "Best estimator: KNeighborsRegressor(metric='manhattan', n_neighbors=25, weights='distance')\n",
      "Best params: {'metric': 'manhattan', 'n_neighbors': 25, 'weights': 'distance'}\n",
      "Best score: -0.27126858735879766\n"
     ]
    }
   ],
   "source": [
    "print(\"Best estimator:\", grid_knn.best_estimator_)\n",
    "print(\"Best params:\", grid_knn.best_params_)\n",
    "print(\"Best score:\", grid_knn.best_score_)"
   ]
  },
  {
   "cell_type": "code",
   "execution_count": 149,
   "metadata": {},
   "outputs": [
    {
     "name": "stdout",
     "output_type": "stream",
     "text": [
      "Score Train: -0.024822432876699253\n",
      "Score Test: -0.26882219690176323\n"
     ]
    }
   ],
   "source": [
    "print('Score Train:', grid_knn.score(X_train_scal, y_train))\n",
    "print('Score Test:', grid_knn.score(X_test_scal, y_test))"
   ]
  },
  {
   "cell_type": "code",
   "execution_count": 150,
   "metadata": {},
   "outputs": [
    {
     "name": "stdout",
     "output_type": "stream",
     "text": [
      "[ 8251.14601482 11163.48532225 49316.18400367 ...  4200.\n",
      " 18200.          5425.77551098]\n"
     ]
    }
   ],
   "source": [
    "pred_grid_knn= grid_knn.predict(X_test_scal)\n",
    "print(pred_grid_knn)"
   ]
  },
  {
   "cell_type": "code",
   "execution_count": 120,
   "metadata": {},
   "outputs": [],
   "source": [
    "knn_MAE = mean_absolute_error(y_test, grid_knn.predict(X_test_scal))\n",
    "knn_MSE = mean_squared_error(y_test, grid_knn.predict(X_test_scal))\n",
    "knn_RMSE = np.sqrt(mean_squared_error(y_test, grid_knn.predict(X_test_scal)))\n",
    "knn_MAPE = mean_absolute_percentage_error(y_test, grid_knn.predict(X_test_scal))\n",
    "knn_r2 = r2_score(y_test,grid_knn.predict(X_test_scal))"
   ]
  },
  {
   "cell_type": "code",
   "execution_count": 121,
   "metadata": {},
   "outputs": [
    {
     "name": "stdout",
     "output_type": "stream",
     "text": [
      "MAE: 2571.532722838567\n",
      "MSE: 36998043.19999017\n",
      "RMSE: 6082.601680201505\n",
      "MAPE: 0.26882219690176323\n",
      "r2: 0.872104768968206\n"
     ]
    }
   ],
   "source": [
    "print(\"MAE:\", knn_MAE)\n",
    "print(\"MSE:\", knn_MSE)\n",
    "print(\"RMSE:\", knn_RMSE)\n",
    "print(\"MAPE:\", knn_MAPE )\n",
    "print('r2:', knn_r2 )"
   ]
  },
  {
   "cell_type": "code",
   "execution_count": 153,
   "metadata": {},
   "outputs": [
    {
     "data": {
      "text/html": [
       "<div>\n",
       "<style scoped>\n",
       "    .dataframe tbody tr th:only-of-type {\n",
       "        vertical-align: middle;\n",
       "    }\n",
       "\n",
       "    .dataframe tbody tr th {\n",
       "        vertical-align: top;\n",
       "    }\n",
       "\n",
       "    .dataframe thead th {\n",
       "        text-align: right;\n",
       "    }\n",
       "</style>\n",
       "<table border=\"1\" class=\"dataframe\">\n",
       "  <thead>\n",
       "    <tr style=\"text-align: right;\">\n",
       "      <th></th>\n",
       "      <th>MAE</th>\n",
       "      <th>MSE</th>\n",
       "      <th>RMSE</th>\n",
       "      <th>MAPE</th>\n",
       "      <th>R2</th>\n",
       "    </tr>\n",
       "  </thead>\n",
       "  <tbody>\n",
       "    <tr>\n",
       "      <th>Linear_Regression</th>\n",
       "      <td>4327.702589</td>\n",
       "      <td>8.432658e+07</td>\n",
       "      <td>9182.950521</td>\n",
       "      <td>0.679502</td>\n",
       "      <td>0.708499</td>\n",
       "    </tr>\n",
       "    <tr>\n",
       "      <th>Decision_Tree</th>\n",
       "      <td>2515.868653</td>\n",
       "      <td>4.027901e+07</td>\n",
       "      <td>6346.574361</td>\n",
       "      <td>0.254020</td>\n",
       "      <td>0.860763</td>\n",
       "    </tr>\n",
       "    <tr>\n",
       "      <th>Random_Forest</th>\n",
       "      <td>2180.341560</td>\n",
       "      <td>2.538387e+07</td>\n",
       "      <td>5038.240480</td>\n",
       "      <td>0.237276</td>\n",
       "      <td>0.912253</td>\n",
       "    </tr>\n",
       "    <tr>\n",
       "      <th>XGBoost</th>\n",
       "      <td>2108.415743</td>\n",
       "      <td>2.468381e+07</td>\n",
       "      <td>4968.280070</td>\n",
       "      <td>0.226900</td>\n",
       "      <td>0.914673</td>\n",
       "    </tr>\n",
       "    <tr>\n",
       "      <th>KNN</th>\n",
       "      <td>2571.532723</td>\n",
       "      <td>3.699804e+07</td>\n",
       "      <td>6082.601680</td>\n",
       "      <td>0.268822</td>\n",
       "      <td>0.872105</td>\n",
       "    </tr>\n",
       "  </tbody>\n",
       "</table>\n",
       "</div>"
      ],
      "text/plain": [
       "                           MAE           MSE         RMSE      MAPE        R2\n",
       "Linear_Regression  4327.702589  8.432658e+07  9182.950521  0.679502  0.708499\n",
       "Decision_Tree      2515.868653  4.027901e+07  6346.574361  0.254020  0.860763\n",
       "Random_Forest      2180.341560  2.538387e+07  5038.240480  0.237276  0.912253\n",
       "XGBoost            2108.415743  2.468381e+07  4968.280070  0.226900  0.914673\n",
       "KNN                2571.532723  3.699804e+07  6082.601680  0.268822  0.872105"
      ]
     },
     "execution_count": 153,
     "metadata": {},
     "output_type": "execute_result"
    }
   ],
   "source": [
    "resultados = pd.DataFrame({'MAE': [lr_MAE, tree_MAE, rf_MAE, xgbr_MAE, knn_MAE], 'MSE': [lr_MSE, tree_MSE, rf_MSE, xgbr_MSE, knn_MSE],\n",
    "'RMSE': [lr_RMSE, tree_RMSE, rf_RMSE, xgbr_RMSE, knn_RMSE],'MAPE': [lr_MAPE, tree_MAPE, rf_MAPE, xgbr_MAPE, knn_MAPE],\n",
    "'R2': [lr_r2, tree_r2, rf_r2, xgbr_r2, knn_r2]}, index=['Linear_Regression', 'Decision_Tree', 'Random_Forest', 'XGBoost','KNN'])\n",
    "resultados"
   ]
  },
  {
   "cell_type": "code",
   "execution_count": 161,
   "metadata": {},
   "outputs": [],
   "source": [
    "import numpy as np"
   ]
  },
  {
   "cell_type": "code",
   "execution_count": 162,
   "metadata": {},
   "outputs": [
    {
     "data": {
      "text/html": [
       "<div>\n",
       "<style scoped>\n",
       "    .dataframe tbody tr th:only-of-type {\n",
       "        vertical-align: middle;\n",
       "    }\n",
       "\n",
       "    .dataframe tbody tr th {\n",
       "        vertical-align: top;\n",
       "    }\n",
       "\n",
       "    .dataframe thead th {\n",
       "        text-align: right;\n",
       "    }\n",
       "</style>\n",
       "<table border=\"1\" class=\"dataframe\">\n",
       "  <thead>\n",
       "    <tr style=\"text-align: right;\">\n",
       "      <th></th>\n",
       "      <th>marca_modelo</th>\n",
       "      <th>fuel</th>\n",
       "      <th>year</th>\n",
       "      <th>power</th>\n",
       "      <th>province</th>\n",
       "    </tr>\n",
       "  </thead>\n",
       "  <tbody>\n",
       "    <tr>\n",
       "      <th>38093</th>\n",
       "      <td>20243.667855</td>\n",
       "      <td>13810.739968</td>\n",
       "      <td>2014</td>\n",
       "      <td>170</td>\n",
       "      <td>16705.106101</td>\n",
       "    </tr>\n",
       "    <tr>\n",
       "      <th>36015</th>\n",
       "      <td>17545.313737</td>\n",
       "      <td>13810.739968</td>\n",
       "      <td>2007</td>\n",
       "      <td>240</td>\n",
       "      <td>17253.667987</td>\n",
       "    </tr>\n",
       "    <tr>\n",
       "      <th>40354</th>\n",
       "      <td>8654.766391</td>\n",
       "      <td>15954.017324</td>\n",
       "      <td>2020</td>\n",
       "      <td>72</td>\n",
       "      <td>16197.500210</td>\n",
       "    </tr>\n",
       "    <tr>\n",
       "      <th>33939</th>\n",
       "      <td>1660.725509</td>\n",
       "      <td>13810.739968</td>\n",
       "      <td>2001</td>\n",
       "      <td>130</td>\n",
       "      <td>16197.500210</td>\n",
       "    </tr>\n",
       "    <tr>\n",
       "      <th>41707</th>\n",
       "      <td>7669.266174</td>\n",
       "      <td>15954.017324</td>\n",
       "      <td>2020</td>\n",
       "      <td>95</td>\n",
       "      <td>17253.667987</td>\n",
       "    </tr>\n",
       "    <tr>\n",
       "      <th>...</th>\n",
       "      <td>...</td>\n",
       "      <td>...</td>\n",
       "      <td>...</td>\n",
       "      <td>...</td>\n",
       "      <td>...</td>\n",
       "    </tr>\n",
       "    <tr>\n",
       "      <th>11285</th>\n",
       "      <td>12786.409028</td>\n",
       "      <td>13810.739968</td>\n",
       "      <td>2016</td>\n",
       "      <td>116</td>\n",
       "      <td>14288.024074</td>\n",
       "    </tr>\n",
       "    <tr>\n",
       "      <th>44733</th>\n",
       "      <td>14828.577660</td>\n",
       "      <td>13810.739968</td>\n",
       "      <td>2014</td>\n",
       "      <td>190</td>\n",
       "      <td>15687.217992</td>\n",
       "    </tr>\n",
       "    <tr>\n",
       "      <th>38159</th>\n",
       "      <td>11902.876627</td>\n",
       "      <td>13810.739968</td>\n",
       "      <td>2011</td>\n",
       "      <td>130</td>\n",
       "      <td>14378.235506</td>\n",
       "    </tr>\n",
       "    <tr>\n",
       "      <th>860</th>\n",
       "      <td>3292.612243</td>\n",
       "      <td>13810.739968</td>\n",
       "      <td>2005</td>\n",
       "      <td>80</td>\n",
       "      <td>16705.106101</td>\n",
       "    </tr>\n",
       "    <tr>\n",
       "      <th>15796</th>\n",
       "      <td>3793.662209</td>\n",
       "      <td>13810.739968</td>\n",
       "      <td>1999</td>\n",
       "      <td>130</td>\n",
       "      <td>12065.572188</td>\n",
       "    </tr>\n",
       "  </tbody>\n",
       "</table>\n",
       "<p>34998 rows × 5 columns</p>\n",
       "</div>"
      ],
      "text/plain": [
       "       marca_modelo          fuel  year  power      province\n",
       "38093  20243.667855  13810.739968  2014    170  16705.106101\n",
       "36015  17545.313737  13810.739968  2007    240  17253.667987\n",
       "40354   8654.766391  15954.017324  2020     72  16197.500210\n",
       "33939   1660.725509  13810.739968  2001    130  16197.500210\n",
       "41707   7669.266174  15954.017324  2020     95  17253.667987\n",
       "...             ...           ...   ...    ...           ...\n",
       "11285  12786.409028  13810.739968  2016    116  14288.024074\n",
       "44733  14828.577660  13810.739968  2014    190  15687.217992\n",
       "38159  11902.876627  13810.739968  2011    130  14378.235506\n",
       "860     3292.612243  13810.739968  2005     80  16705.106101\n",
       "15796   3793.662209  13810.739968  1999    130  12065.572188\n",
       "\n",
       "[34998 rows x 5 columns]"
      ]
     },
     "execution_count": 162,
     "metadata": {},
     "output_type": "execute_result"
    }
   ],
   "source": [
    "X_train"
   ]
  },
  {
   "cell_type": "markdown",
   "metadata": {},
   "source": [
    "### Nueva prediccion"
   ]
  },
  {
   "cell_type": "markdown",
   "metadata": {},
   "source": [
    "Creamos un dataframe con los datos que deben entrar en nuestro modelo.\n",
    "Transformamos las variables categóricas en numéricas\n",
    "Estandarizamos estas variables y aplicamos directamente sobre nuestro modelo importado la predicción"
   ]
  },
  {
   "cell_type": "code",
   "execution_count": 177,
   "metadata": {},
   "outputs": [
    {
     "data": {
      "text/html": [
       "<div>\n",
       "<style scoped>\n",
       "    .dataframe tbody tr th:only-of-type {\n",
       "        vertical-align: middle;\n",
       "    }\n",
       "\n",
       "    .dataframe tbody tr th {\n",
       "        vertical-align: top;\n",
       "    }\n",
       "\n",
       "    .dataframe thead th {\n",
       "        text-align: right;\n",
       "    }\n",
       "</style>\n",
       "<table border=\"1\" class=\"dataframe\">\n",
       "  <thead>\n",
       "    <tr style=\"text-align: right;\">\n",
       "      <th></th>\n",
       "      <th>marca_modelo</th>\n",
       "      <th>fuel</th>\n",
       "      <th>year</th>\n",
       "      <th>power</th>\n",
       "      <th>province</th>\n",
       "    </tr>\n",
       "  </thead>\n",
       "  <tbody>\n",
       "    <tr>\n",
       "      <th>0</th>\n",
       "      <td>CITROEN_C1</td>\n",
       "      <td>Gasolina</td>\n",
       "      <td>2020</td>\n",
       "      <td>72</td>\n",
       "      <td>Valencia</td>\n",
       "    </tr>\n",
       "    <tr>\n",
       "      <th>1</th>\n",
       "      <td>PEUGEOT_406</td>\n",
       "      <td>Diésel</td>\n",
       "      <td>2000</td>\n",
       "      <td>130</td>\n",
       "      <td>Tarragona</td>\n",
       "    </tr>\n",
       "  </tbody>\n",
       "</table>\n",
       "</div>"
      ],
      "text/plain": [
       "  marca_modelo      fuel  year  power   province\n",
       "0   CITROEN_C1  Gasolina  2020     72   Valencia\n",
       "1  PEUGEOT_406    Diésel  2000    130  Tarragona"
      ]
     },
     "execution_count": 177,
     "metadata": {},
     "output_type": "execute_result"
    }
   ],
   "source": [
    "nuevo_coche = pd.DataFrame({'marca_modelo':['CITROEN_C1', 'PEUGEOT_406'], 'fuel': ['Gasolina','Diésel'], 'year': [2020, 2000], 'power':[72, 130], 'province': ['Valencia','Tarragona']})\n",
    "nuevo_coche"
   ]
  },
  {
   "cell_type": "code",
   "execution_count": 178,
   "metadata": {},
   "outputs": [],
   "source": [
    "nuevo_coche_cbe = cbe_encoder.transform(nuevo_coche)"
   ]
  },
  {
   "cell_type": "code",
   "execution_count": 179,
   "metadata": {},
   "outputs": [],
   "source": [
    "nuevo_coche_escal = escaler.transform(nuevo_coche_cbe)"
   ]
  },
  {
   "cell_type": "code",
   "execution_count": 180,
   "metadata": {},
   "outputs": [],
   "source": [
    "with open('xgbr_model.model', 'rb') as archivo_entrada:\n",
    "    modelo_importado = pickle.load(archivo_entrada)"
   ]
  },
  {
   "cell_type": "code",
   "execution_count": 181,
   "metadata": {},
   "outputs": [
    {
     "name": "stdout",
     "output_type": "stream",
     "text": [
      "Prediccion precio coche 1: 11971.208\n",
      "Prediccion precio coche 2: 1021.4372\n"
     ]
    }
   ],
   "source": [
    "modelo_importado.predict(nuevo_coche_escal)\n",
    "print('Prediccion precio coche 1:', modelo_importado.predict(nuevo_coche_escal)[0])\n",
    "print('Prediccion precio coche 2:', modelo_importado.predict(nuevo_coche_escal)[1])"
   ]
  },
  {
   "cell_type": "code",
   "execution_count": 182,
   "metadata": {},
   "outputs": [
    {
     "data": {
      "text/html": [
       "<div>\n",
       "<style scoped>\n",
       "    .dataframe tbody tr th:only-of-type {\n",
       "        vertical-align: middle;\n",
       "    }\n",
       "\n",
       "    .dataframe tbody tr th {\n",
       "        vertical-align: top;\n",
       "    }\n",
       "\n",
       "    .dataframe thead th {\n",
       "        text-align: right;\n",
       "    }\n",
       "</style>\n",
       "<table border=\"1\" class=\"dataframe\">\n",
       "  <thead>\n",
       "    <tr style=\"text-align: right;\">\n",
       "      <th></th>\n",
       "      <th>marca_modelo</th>\n",
       "      <th>fuel</th>\n",
       "      <th>year</th>\n",
       "      <th>power</th>\n",
       "      <th>province</th>\n",
       "      <th>prediccion_precio</th>\n",
       "    </tr>\n",
       "  </thead>\n",
       "  <tbody>\n",
       "    <tr>\n",
       "      <th>0</th>\n",
       "      <td>CITROEN_C1</td>\n",
       "      <td>Gasolina</td>\n",
       "      <td>2020</td>\n",
       "      <td>72</td>\n",
       "      <td>Valencia</td>\n",
       "      <td>11971.208008</td>\n",
       "    </tr>\n",
       "    <tr>\n",
       "      <th>1</th>\n",
       "      <td>PEUGEOT_406</td>\n",
       "      <td>Diésel</td>\n",
       "      <td>2000</td>\n",
       "      <td>130</td>\n",
       "      <td>Tarragona</td>\n",
       "      <td>1021.437195</td>\n",
       "    </tr>\n",
       "  </tbody>\n",
       "</table>\n",
       "</div>"
      ],
      "text/plain": [
       "  marca_modelo      fuel  year  power   province  prediccion_precio\n",
       "0   CITROEN_C1  Gasolina  2020     72   Valencia       11971.208008\n",
       "1  PEUGEOT_406    Diésel  2000    130  Tarragona        1021.437195"
      ]
     },
     "execution_count": 182,
     "metadata": {},
     "output_type": "execute_result"
    }
   ],
   "source": [
    "nuevo_coche['prediccion_precio'] = modelo_importado.predict(nuevo_coche_escal)\n",
    "nuevo_coche"
   ]
  },
  {
   "cell_type": "code",
   "execution_count": 183,
   "metadata": {},
   "outputs": [
    {
     "data": {
      "text/plain": [
       "-0.22922686178739332"
      ]
     },
     "execution_count": 183,
     "metadata": {},
     "output_type": "execute_result"
    }
   ],
   "source": [
    "modelo_importado.best_score_"
   ]
  }
 ],
 "metadata": {
  "kernelspec": {
   "display_name": "Python 3.7.4 64-bit",
   "language": "python",
   "name": "python3"
  },
  "language_info": {
   "codemirror_mode": {
    "name": "ipython",
    "version": 3
   },
   "file_extension": ".py",
   "mimetype": "text/x-python",
   "name": "python",
   "nbconvert_exporter": "python",
   "pygments_lexer": "ipython3",
   "version": "3.7.4"
  },
  "orig_nbformat": 4,
  "vscode": {
   "interpreter": {
    "hash": "94a30780e544d91e3b29df10927e51b39804c6806d463899ef0f4c10c3c8949c"
   }
  }
 },
 "nbformat": 4,
 "nbformat_minor": 2
}
